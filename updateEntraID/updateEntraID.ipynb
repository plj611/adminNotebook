{
 "cells": [
  {
   "cell_type": "code",
   "execution_count": 1,
   "metadata": {
    "dotnet_interactive": {
     "language": "pwsh"
    },
    "polyglot_notebook": {
     "kernelName": "pwsh"
    }
   },
   "outputs": [],
   "source": [
    "Import-Module ImportExcel"
   ]
  },
  {
   "cell_type": "code",
   "execution_count": 9,
   "metadata": {
    "dotnet_interactive": {
     "language": "pwsh"
    },
    "polyglot_notebook": {
     "kernelName": "pwsh"
    }
   },
   "outputs": [],
   "source": [
    "$u = Import-Excel './users.xlsx'"
   ]
  },
  {
   "cell_type": "code",
   "execution_count": 10,
   "metadata": {
    "dotnet_interactive": {
     "language": "pwsh"
    },
    "polyglot_notebook": {
     "kernelName": "pwsh"
    }
   },
   "outputs": [],
   "source": [
    "$userIdHash1 = @{}\n",
    "\n",
    "$u | ForEach-Object -process {\n",
    "   $t = @{$_.'Display name' = $_.'Object Id'}\n",
    "   $userIdHash1 += $t\n",
    "}"
   ]
  },
  {
   "cell_type": "code",
   "execution_count": 21,
   "metadata": {
    "dotnet_interactive": {
     "language": "pwsh"
    },
    "polyglot_notebook": {
     "kernelName": "pwsh"
    }
   },
   "outputs": [
    {
     "name": "stdout",
     "output_type": "stream",
     "text": [
      "\n",
      "\u001b[32;1mName             \u001b[0m\u001b[32;1m ObjectID                            \u001b[0m\u001b[32;1m Manager        \u001b[0m\u001b[32;1m Manager ObjectID\u001b[0m\n",
      "\u001b[32;1m----             \u001b[0m \u001b[32;1m--------                            \u001b[0m \u001b[32;1m-------        \u001b[0m \u001b[32;1m----------------\u001b[0m\n",
      "Adele Vance       e065d899-0464-4a43-b02a-206028b27982 Patti Fernandez ac4e7475-bf36-4ac3-b8bd-5e0…\n",
      "Alex Wilber       c3a3bf8e-d9d4-4b9a-b7d4-175993bbe726 Pradeep Gupta   9091d05e-e280-4b72-8612-fd8…\n",
      "Daniel Carmack    9a2e7c71-2c59-4b80-ada4-19d8534e6d99 Patti Fernandez ac4e7475-bf36-4ac3-b8bd-5e0…\n",
      "Diego Siciliani   0a02a0f1-48e1-4010-b904-c7650b34c112 Pradeep Gupta   9091d05e-e280-4b72-8612-fd8…\n",
      "Grady Archie      2ea73151-a011-47b5-9a99-8d37adc221b5 Patti Fernandez ac4e7475-bf36-4ac3-b8bd-5e0…\n",
      "Henrietta Mueller 2c758750-2644-4e13-975f-453e0dfa2263 Pradeep Gupta   9091d05e-e280-4b72-8612-fd8…\n",
      "Isaiah Langer     f243a1ce-a5e6-42e1-abe1-f49ca450d6a0 Patti Fernandez ac4e7475-bf36-4ac3-b8bd-5e0…\n",
      "Johanna Lorenz    40d46eb7-4a18-4fa0-b410-c40c92324624 Pradeep Gupta   9091d05e-e280-4b72-8612-fd8…\n",
      "Joni Sherman      96ba2e29-c833-4322-83e1-1f609aa3fe4c Patti Fernandez ac4e7475-bf36-4ac3-b8bd-5e0…\n",
      "Lee Gu            98d68316-30d8-43c4-ac35-4319ec3b50e9 Pradeep Gupta   9091d05e-e280-4b72-8612-fd8…\n",
      "Lidia Holloway    a0df3ed6-b117-4faa-aedf-ab78d0d60ac0 Patti Fernandez ac4e7475-bf36-4ac3-b8bd-5e0…\n",
      "Lynne Robbins     27baf846-be3a-4bc0-b382-40d466d82e1b Pradeep Gupta   9091d05e-e280-4b72-8612-fd8…\n",
      "Megan Bowen       c948120e-0b75-4e47-b758-c6c57bddde64 Patti Fernandez ac4e7475-bf36-4ac3-b8bd-5e0…\n",
      "Miriam Graham     0e799665-9e0b-4226-97c3-694a49c45c63 Pradeep Gupta   9091d05e-e280-4b72-8612-fd8…\n",
      "Nestor Wilke      33d9a4ec-2426-4c08-b4f3-97459e49cd3b Patti Fernandez ac4e7475-bf36-4ac3-b8bd-5e0…\n",
      "P A               b28254f0-80be-45dd-a1f4-d954e1e1a5f3 Pradeep Gupta   9091d05e-e280-4b72-8612-fd8…\n",
      "Patti Fernandez   ac4e7475-bf36-4ac3-b8bd-5e0bb75a630d Pradeep Gupta   9091d05e-e280-4b72-8612-fd8…\n",
      "Pradeep Gupta     9091d05e-e280-4b72-8612-fd8e76ae4795                 \n",
      "\n"
     ]
    },
    {
     "ename": "Error",
     "evalue": "Command failed: SubmitCode: $u| Select-Object @{Label='Name'; Expression={$_.' ...",
     "output_type": "error",
     "traceback": [
      "Command failed: SubmitCode: $u| Select-Object @{Label='Name'; Expression={$_.' ..."
     ]
    }
   ],
   "source": [
    "$u| Select-Object @{Label='Name'; Expression={$_.'Display Name'}}, @{Label='ObjectID'; Expression={$_.'Object Id'}}, @{Label='Manager'; Expression={$_.Manager}},\n",
    "                  @{Label='Manager ObjectID'; Expression={$userIdHash1[$_.Manager]}}"
   ]
  },
  {
   "cell_type": "code",
   "execution_count": 69,
   "metadata": {
    "dotnet_interactive": {
     "language": "pwsh"
    },
    "polyglot_notebook": {
     "kernelName": "pwsh"
    }
   },
   "outputs": [
    {
     "name": "stdout",
     "output_type": "stream",
     "text": [
      "\n",
      "\u001b[32;1mName                          \u001b[0m\u001b[32;1m Value\u001b[0m\n",
      "\u001b[32;1m----                          \u001b[0m \u001b[32;1m-----\u001b[0m\n",
      "Adele Vance                    e065d899-0464-4a43-b02a-206028b27982\n",
      "Alex Wilber                    c3a3bf8e-d9d4-4b9a-b7d4-175993bbe726\n",
      "Daniel Carmack                 9a2e7c71-2c59-4b80-ada4-19d8534e6d99\n",
      "Diego Siciliani                0a02a0f1-48e1-4010-b904-c7650b34c112\n",
      "Grady Archie                   2ea73151-a011-47b5-9a99-8d37adc221b5\n",
      "Henrietta Mueller              2c758750-2644-4e13-975f-453e0dfa2263\n",
      "Isaiah Langer                  f243a1ce-a5e6-42e1-abe1-f49ca450d6a0\n",
      "Johanna Lorenz                 40d46eb7-4a18-4fa0-b410-c40c92324624\n",
      "Joni Sherman                   96ba2e29-c833-4322-83e1-1f609aa3fe4c\n",
      "Lee Gu                         98d68316-30d8-43c4-ac35-4319ec3b50e9\n",
      "Lidia Holloway                 a0df3ed6-b117-4faa-aedf-ab78d0d60ac0\n",
      "Lynne Robbins                  27baf846-be3a-4bc0-b382-40d466d82e1b\n",
      "Megan Bowen                    c948120e-0b75-4e47-b758-c6c57bddde64\n",
      "Miriam Graham                  0e799665-9e0b-4226-97c3-694a49c45c63\n",
      "Nestor Wilke                   33d9a4ec-2426-4c08-b4f3-97459e49cd3b\n",
      "P A                            b28254f0-80be-45dd-a1f4-d954e1e1a5f3\n",
      "Patti Fernandez                ac4e7475-bf36-4ac3-b8bd-5e0bb75a630d\n",
      "Pradeep Gupta                  9091d05e-e280-4b72-8612-fd8e76ae4795\n",
      "\n"
     ]
    }
   ],
   "source": [
    "$userIdHash2 = @{}\n",
    "\n",
    "foreach ($a in $u) {\n",
    "   $t = @{$a.'Display name' = $a.'Object Id'}\n",
    "   $t\n",
    "   $userIdHash2 += $t\n",
    "}  "
   ]
  },
  {
   "cell_type": "code",
   "execution_count": 56,
   "metadata": {
    "dotnet_interactive": {
     "language": "pwsh"
    },
    "polyglot_notebook": {
     "kernelName": "pwsh"
    }
   },
   "outputs": [
    {
     "name": "stdout",
     "output_type": "stream",
     "text": [
      "\n",
      "\u001b[32;1mName                          \u001b[0m\u001b[32;1m Value\u001b[0m\n",
      "\u001b[32;1m----                          \u001b[0m \u001b[32;1m-----\u001b[0m\n",
      "Miriam Graham                  0e799665-9e0b-4226-97c3-694a49c45c63\n",
      "Pradeep Gupta                  9091d05e-e280-4b72-8612-fd8e76ae4795\n",
      "P A                            b28254f0-80be-45dd-a1f4-d954e1e1a5f3\n",
      "Lynne Robbins                  27baf846-be3a-4bc0-b382-40d466d82e1b\n",
      "Joni Sherman                   96ba2e29-c833-4322-83e1-1f609aa3fe4c\n",
      "Alex Wilber                    c3a3bf8e-d9d4-4b9a-b7d4-175993bbe726\n",
      "Adele Vance                    e065d899-0464-4a43-b02a-206028b27982\n",
      "Lidia Holloway                 a0df3ed6-b117-4faa-aedf-ab78d0d60ac0\n",
      "Patti Fernandez                ac4e7475-bf36-4ac3-b8bd-5e0bb75a630d\n",
      "Isaiah Langer                  f243a1ce-a5e6-42e1-abe1-f49ca450d6a0\n",
      "Henrietta Mueller              2c758750-2644-4e13-975f-453e0dfa2263\n",
      "Megan Bowen                    c948120e-0b75-4e47-b758-c6c57bddde64\n",
      "Johanna Lorenz                 40d46eb7-4a18-4fa0-b410-c40c92324624\n",
      "Lee Gu                         98d68316-30d8-43c4-ac35-4319ec3b50e9\n",
      "Daniel Carmack                 9a2e7c71-2c59-4b80-ada4-19d8534e6d99\n",
      "Diego Siciliani                0a02a0f1-48e1-4010-b904-c7650b34c112\n",
      "Grady Archie                   2ea73151-a011-47b5-9a99-8d37adc221b5\n",
      "Nestor Wilke                   33d9a4ec-2426-4c08-b4f3-97459e49cd3b\n",
      "\n"
     ]
    }
   ],
   "source": [
    "$userIdHash2\n"
   ]
  },
  {
   "cell_type": "code",
   "execution_count": 28,
   "metadata": {
    "dotnet_interactive": {
     "language": "pwsh"
    },
    "polyglot_notebook": {
     "kernelName": "pwsh"
    }
   },
   "outputs": [],
   "source": [
    "$userIdHash += $temp"
   ]
  },
  {
   "cell_type": "code",
   "execution_count": 29,
   "metadata": {
    "dotnet_interactive": {
     "language": "pwsh"
    },
    "polyglot_notebook": {
     "kernelName": "pwsh"
    }
   },
   "outputs": [
    {
     "name": "stdout",
     "output_type": "stream",
     "text": [
      "\n",
      "\u001b[32;1mName                          \u001b[0m\u001b[32;1m Value\u001b[0m\n",
      "\u001b[32;1m----                          \u001b[0m \u001b[32;1m-----\u001b[0m\n",
      "Adele Vance                    e065d899-0464-4a43-b02a-206028b27982\n",
      "\n"
     ]
    }
   ],
   "source": [
    "$userIdHash"
   ]
  },
  {
   "cell_type": "code",
   "execution_count": null,
   "metadata": {
    "dotnet_interactive": {
     "language": "pwsh"
    },
    "polyglot_notebook": {
     "kernelName": "pwsh"
    }
   },
   "outputs": [],
   "source": []
  }
 ],
 "metadata": {
  "kernelspec": {
   "display_name": ".NET (PowerShell)",
   "language": "PowerShell",
   "name": ".net-pwsh"
  },
  "language_info": {
   "name": "polyglot-notebook"
  },
  "polyglot_notebook": {
   "kernelInfo": {
    "defaultKernelName": "pwsh",
    "items": [
     {
      "aliases": [],
      "languageName": "pwsh",
      "name": "pwsh"
     }
    ]
   }
  }
 },
 "nbformat": 4,
 "nbformat_minor": 2
}
