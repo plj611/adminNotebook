{
 "cells": [
  {
   "cell_type": "code",
   "execution_count": 70,
   "metadata": {
    "dotnet_interactive": {
     "language": "pwsh"
    },
    "polyglot_notebook": {
     "kernelName": "pwsh"
    }
   },
   "outputs": [
    {
     "name": "stdout",
     "output_type": "stream",
     "text": [
      "Welcome to Microsoft Graph!\n",
      "\n",
      "Connected via delegated access using 14d82eec-204b-4c2f-b7e8-296a70dab67e\n",
      "Readme: https://aka.ms/graph/sdk/powershell\n",
      "SDK Docs: https://aka.ms/graph/sdk/powershell/docs\n",
      "API Docs: https://aka.ms/graph/docs\n",
      "\n",
      "NOTE: You can use the -NoWelcome parameter to suppress this message.\n",
      "\n"
     ]
    }
   ],
   "source": [
    "connect-mggraph -scopes \"UserAuthenticationMethod.Read.All, User.Read.All\""
   ]
  },
  {
   "cell_type": "code",
   "execution_count": 71,
   "metadata": {
    "dotnet_interactive": {
     "language": "pwsh"
    },
    "polyglot_notebook": {
     "kernelName": "pwsh"
    }
   },
   "outputs": [],
   "source": [
    "$u = get-mguser"
   ]
  },
  {
   "cell_type": "code",
   "execution_count": 72,
   "metadata": {
    "dotnet_interactive": {
     "language": "pwsh"
    },
    "polyglot_notebook": {
     "kernelName": "pwsh"
    }
   },
   "outputs": [
    {
     "name": "stdout",
     "output_type": "stream",
     "text": [
      "\n",
      "\u001b[32;1mDisplayName      \u001b[0m\u001b[32;1m Id                                  \u001b[0m\u001b[32;1m Mail                             \u001b[0m\u001b[32;1m UserPrinci\u001b[0m\n",
      "\u001b[32;1m                 \u001b[0m\u001b[32;1m                                     \u001b[0m\u001b[32;1m                                  \u001b[0m\u001b[32;1m palName\u001b[0m\n",
      "\u001b[32;1m-----------      \u001b[0m \u001b[32;1m--                                  \u001b[0m \u001b[32;1m----                             \u001b[0m \u001b[32;1m----------\u001b[0m\n",
      "Adele Vance       e065d899-0464-4a43-b02a-206028b27982 AdeleV@61b3yr.onmicrosoft.com     AdeleV@61…\n",
      "Alex Wilber       c3a3bf8e-d9d4-4b9a-b7d4-175993bbe726 AlexW@61b3yr.onmicrosoft.com      AlexW@61b…\n",
      "Daniel Carmack    9a2e7c71-2c59-4b80-ada4-19d8534e6d99 Daniel.C@61b3yr.onmicrosoft.com   Daniel.C@…\n",
      "Diego Siciliani   0a02a0f1-48e1-4010-b904-c7650b34c112 DiegoS@61b3yr.onmicrosoft.com     DiegoS@61…\n",
      "Grady Archie      2ea73151-a011-47b5-9a99-8d37adc221b5 GradyA@61b3yr.onmicrosoft.com     GradyA@61…\n",
      "Henrietta Mueller 2c758750-2644-4e13-975f-453e0dfa2263 HenriettaM@61b3yr.onmicrosoft.com Henrietta…\n",
      "Isaiah Langer     f243a1ce-a5e6-42e1-abe1-f49ca450d6a0 IsaiahL@61b3yr.onmicrosoft.com    IsaiahL@6…\n",
      "Johanna Lorenz    40d46eb7-4a18-4fa0-b410-c40c92324624 JohannaL@61b3yr.onmicrosoft.com   JohannaL@…\n",
      "Joni Sherman      96ba2e29-c833-4322-83e1-1f609aa3fe4c JoniS@61b3yr.onmicrosoft.com      JoniS@61b…\n",
      "Lee Gu            98d68316-30d8-43c4-ac35-4319ec3b50e9 LeeG@61b3yr.onmicrosoft.com       LeeG@61b3…\n",
      "Lidia Holloway    a0df3ed6-b117-4faa-aedf-ab78d0d60ac0 LidiaH@61b3yr.onmicrosoft.com     LidiaH@61…\n",
      "Lynne Robbins     27baf846-be3a-4bc0-b382-40d466d82e1b LynneR@61b3yr.onmicrosoft.com     LynneR@61…\n",
      "Megan Bowen       c948120e-0b75-4e47-b758-c6c57bddde64 MeganB@61b3yr.onmicrosoft.com     MeganB@61…\n",
      "Miriam Graham     0e799665-9e0b-4226-97c3-694a49c45c63 MiriamG@61b3yr.onmicrosoft.com    MiriamG@6…\n",
      "Nestor Wilke      33d9a4ec-2426-4c08-b4f3-97459e49cd3b NestorW@61b3yr.onmicrosoft.com    NestorW@6…\n",
      "Patti Fernandez   ac4e7475-bf36-4ac3-b8bd-5e0bb75a630d PattiF@61b3yr.onmicrosoft.com     PattiF@61…\n",
      "P A               b28254f0-80be-45dd-a1f4-d954e1e1a5f3 plj611@61b3yr.onmicrosoft.com     plj611@61…\n",
      "Pradeep Gupta     9091d05e-e280-4b72-8612-fd8e76ae4795 PradeepG@61b3yr.onmicrosoft.com   PradeepG@…\n",
      "\n"
     ]
    }
   ],
   "source": [
    "$u"
   ]
  },
  {
   "cell_type": "code",
   "execution_count": 74,
   "metadata": {
    "dotnet_interactive": {
     "language": "pwsh"
    },
    "polyglot_notebook": {
     "kernelName": "pwsh"
    }
   },
   "outputs": [],
   "source": [
    "$Id9 = $u[9].Id\n"
   ]
  },
  {
   "cell_type": "code",
   "execution_count": 75,
   "metadata": {
    "dotnet_interactive": {
     "language": "pwsh"
    },
    "polyglot_notebook": {
     "kernelName": "pwsh"
    }
   },
   "outputs": [
    {
     "name": "stdout",
     "output_type": "stream",
     "text": [
      "98d68316-30d8-43c4-ac35-4319ec3b50e9\n"
     ]
    }
   ],
   "source": [
    "$Id9"
   ]
  },
  {
   "cell_type": "code",
   "execution_count": 89,
   "metadata": {
    "dotnet_interactive": {
     "language": "pwsh"
    },
    "polyglot_notebook": {
     "kernelName": "pwsh"
    }
   },
   "outputs": [],
   "source": [
    "$method = get-mguserAuthenticationmethod -userid $id9 -All\n"
   ]
  },
  {
   "cell_type": "code",
   "execution_count": 90,
   "metadata": {
    "dotnet_interactive": {
     "language": "pwsh"
    },
    "polyglot_notebook": {
     "kernelName": "pwsh"
    }
   },
   "outputs": [
    {
     "name": "stdout",
     "output_type": "stream",
     "text": [
      "\n",
      "   TypeName: Microsoft.Graph.PowerShell.Models.MicrosoftGraphAuthenticationMethod\n",
      "\n",
      "\u001b[32;1mName                \u001b[0m\u001b[32;1m MemberType           \u001b[0m\u001b[32;1m Definition\u001b[0m\n",
      "\u001b[32;1m----                \u001b[0m \u001b[32;1m----------           \u001b[0m \u001b[32;1m----------\u001b[0m\n",
      "Add                  Method                void Add(string key, System.Object value), void IAssoci…\n",
      "Clear                Method                void Clear(), void IAssociativeArray[Object].Clear()\n",
      "ContainsKey          Method                bool ContainsKey(string key), bool IAssociativeArray[Ob…\n",
      "CopyFrom             Method                void CopyFrom(System.Collections.IDictionary source), v…\n",
      "Equals               Method                bool Equals(System.Object obj)\n",
      "GetHashCode          Method                int GetHashCode()\n",
      "GetType              Method                type GetType()\n",
      "Remove               Method                bool Remove(string key), bool IAssociativeArray[Object]…\n",
      "ToJson               Method                Microsoft.Graph.PowerShell.Runtime.Json.JsonNode, Micro…\n",
      "ToJsonString         Method                string ToJsonString()\n",
      "ToString             Method                string ToString()\n",
      "TryGetValue          Method                bool TryGetValue(string key, [ref] System.Object value)…\n",
      "Validate             Method                System.Threading.Tasks.Task Validate(Microsoft.Graph.Po…\n",
      "EntityItem           ParameterizedProperty System.Object EntityItem(string index) {get;set;}\n",
      "Item                 ParameterizedProperty System.Object IAssociativeArray[Object].Item(string ind…\n",
      "AdditionalProperties Property              System.Collections.Generic.IDictionary[string,System.Ob…\n",
      "Id                   Property              string Id {get;set;}\n",
      "\n"
     ]
    }
   ],
   "source": [
    "$method | get-member"
   ]
  },
  {
   "cell_type": "code",
   "execution_count": 98,
   "metadata": {
    "dotnet_interactive": {
     "language": "pwsh"
    },
    "polyglot_notebook": {
     "kernelName": "pwsh"
    }
   },
   "outputs": [],
   "source": [
    "$ret = $method[0].ToJsonString()"
   ]
  },
  {
   "cell_type": "code",
   "execution_count": 99,
   "metadata": {
    "dotnet_interactive": {
     "language": "pwsh"
    },
    "polyglot_notebook": {
     "kernelName": "pwsh"
    }
   },
   "outputs": [
    {
     "name": "stdout",
     "output_type": "stream",
     "text": [
      "\n",
      "   TypeName: System.String\n",
      "\n",
      "\u001b[32;1mName                \u001b[0m\u001b[32;1m MemberType           \u001b[0m\u001b[32;1m Definition\u001b[0m\n",
      "\u001b[32;1m----                \u001b[0m \u001b[32;1m----------           \u001b[0m \u001b[32;1m----------\u001b[0m\n",
      "Clone                Method                System.Object Clone(), System.Object ICloneable.Clone()\n",
      "CompareTo            Method                int CompareTo(System.Object value), int CompareTo(strin…\n",
      "Contains             Method                bool Contains(string value), bool Contains(string value…\n",
      "CopyTo               Method                void CopyTo(int sourceIndex, char[] destination, int de…\n",
      "EndsWith             Method                bool EndsWith(string value), bool EndsWith(string value…\n",
      "EnumerateRunes       Method                System.Text.StringRuneEnumerator EnumerateRunes()\n",
      "Equals               Method                bool Equals(System.Object obj), bool Equals(string valu…\n",
      "GetEnumerator        Method                System.CharEnumerator GetEnumerator(), System.Collectio…\n",
      "GetHashCode          Method                int GetHashCode(), int GetHashCode(System.StringCompari…\n",
      "GetPinnableReference Method                System.Char&, System.Private.CoreLib, Version=8.0.0.0, …\n",
      "GetType              Method                type GetType()\n",
      "GetTypeCode          Method                System.TypeCode GetTypeCode(), System.TypeCode IConvert…\n",
      "IndexOf              Method                int IndexOf(char value), int IndexOf(char value, int st…\n",
      "IndexOfAny           Method                int IndexOfAny(char[] anyOf), int IndexOfAny(char[] any…\n",
      "Insert               Method                string Insert(int startIndex, string value)\n",
      "IsNormalized         Method                bool IsNormalized(), bool IsNormalized(System.Text.Norm…\n",
      "LastIndexOf          Method                int LastIndexOf(char value), int LastIndexOf(char value…\n",
      "LastIndexOfAny       Method                int LastIndexOfAny(char[] anyOf), int LastIndexOfAny(ch…\n",
      "Normalize            Method                string Normalize(), string Normalize(System.Text.Normal…\n",
      "PadLeft              Method                string PadLeft(int totalWidth), string PadLeft(int tota…\n",
      "PadRight             Method                string PadRight(int totalWidth), string PadRight(int to…\n",
      "Remove               Method                string Remove(int startIndex, int count), string Remove…\n",
      "Replace              Method                string Replace(string oldValue, string newValue, bool i…\n",
      "ReplaceLineEndings   Method                string ReplaceLineEndings(), string ReplaceLineEndings(…\n",
      "Split                Method                string[] Split(char separator, System.StringSplitOption…\n",
      "StartsWith           Method                bool StartsWith(string value), bool StartsWith(string v…\n",
      "Substring            Method                string Substring(int startIndex), string Substring(int …\n",
      "ToBoolean            Method                bool IConvertible.ToBoolean(System.IFormatProvider prov…\n",
      "ToByte               Method                byte IConvertible.ToByte(System.IFormatProvider provide…\n",
      "ToChar               Method                char IConvertible.ToChar(System.IFormatProvider provide…\n",
      "ToCharArray          Method                char[] ToCharArray(), char[] ToCharArray(int startIndex…\n",
      "ToDateTime           Method                datetime IConvertible.ToDateTime(System.IFormatProvider…\n",
      "ToDecimal            Method                decimal IConvertible.ToDecimal(System.IFormatProvider p…\n",
      "ToDouble             Method                double IConvertible.ToDouble(System.IFormatProvider pro…\n",
      "ToInt16              Method                short IConvertible.ToInt16(System.IFormatProvider provi…\n",
      "ToInt32              Method                int IConvertible.ToInt32(System.IFormatProvider provide…\n",
      "ToInt64              Method                long IConvertible.ToInt64(System.IFormatProvider provid…\n",
      "ToLower              Method                string ToLower(), string ToLower(cultureinfo culture)\n",
      "ToLowerInvariant     Method                string ToLowerInvariant()\n",
      "ToSByte              Method                sbyte IConvertible.ToSByte(System.IFormatProvider provi…\n",
      "ToSingle             Method                float IConvertible.ToSingle(System.IFormatProvider prov…\n",
      "ToString             Method                string ToString(), string ToString(System.IFormatProvid…\n",
      "ToType               Method                System.Object IConvertible.ToType(type conversionType, …\n",
      "ToUInt16             Method                ushort IConvertible.ToUInt16(System.IFormatProvider pro…\n",
      "ToUInt32             Method                uint IConvertible.ToUInt32(System.IFormatProvider provi…\n",
      "ToUInt64             Method                ulong IConvertible.ToUInt64(System.IFormatProvider prov…\n",
      "ToUpper              Method                string ToUpper(), string ToUpper(cultureinfo culture)\n",
      "ToUpperInvariant     Method                string ToUpperInvariant()\n",
      "Trim                 Method                string Trim(), string Trim(char trimChar), string Trim(…\n",
      "TrimEnd              Method                string TrimEnd(), string TrimEnd(char trimChar), string…\n",
      "TrimStart            Method                string TrimStart(), string TrimStart(char trimChar), st…\n",
      "TryCopyTo            Method                bool TryCopyTo(System.Span[char] destination)\n",
      "Chars                ParameterizedProperty char Chars(int index) {get;}\n",
      "Length               Property              int Length {get;}\n",
      "\n"
     ]
    }
   ],
   "source": [
    "$ret| Get-Member"
   ]
  },
  {
   "cell_type": "code",
   "execution_count": 88,
   "metadata": {
    "dotnet_interactive": {
     "language": "pwsh"
    },
    "polyglot_notebook": {
     "kernelName": "pwsh"
    }
   },
   "outputs": [
    {
     "name": "stdout",
     "output_type": "stream",
     "text": [
      "\n",
      "\u001b[32;1mDisplayName\u001b[0m\u001b[32;1m AuthMethod\u001b[0m\n",
      "\u001b[32;1m-----------\u001b[0m \u001b[32;1m----------\u001b[0m\n",
      "Adele Vance \n",
      "\n",
      "\n",
      "\u001b[32;1mDisplayName\u001b[0m\u001b[32;1m AuthMethod\u001b[0m\n",
      "\u001b[32;1m-----------\u001b[0m \u001b[32;1m----------\u001b[0m\n",
      "Alex Wilber \n",
      "\n",
      "\n",
      "\u001b[32;1mDisplayName   \u001b[0m\u001b[32;1m AuthMethod\u001b[0m\n",
      "\u001b[32;1m-----------   \u001b[0m \u001b[32;1m----------\u001b[0m\n",
      "Daniel Carmack \n",
      "\n",
      "\n",
      "\u001b[32;1mDisplayName    \u001b[0m\u001b[32;1m AuthMethod\u001b[0m\n",
      "\u001b[32;1m-----------    \u001b[0m \u001b[32;1m----------\u001b[0m\n",
      "Diego Siciliani \n",
      "\n",
      "\n",
      "\u001b[32;1mDisplayName \u001b[0m\u001b[32;1m AuthMethod\u001b[0m\n",
      "\u001b[32;1m----------- \u001b[0m \u001b[32;1m----------\u001b[0m\n",
      "Grady Archie \n",
      "\n",
      "\n",
      "\u001b[32;1mDisplayName      \u001b[0m\u001b[32;1m AuthMethod\u001b[0m\n",
      "\u001b[32;1m-----------      \u001b[0m \u001b[32;1m----------\u001b[0m\n",
      "Henrietta Mueller \n",
      "\n",
      "\n",
      "\u001b[32;1mDisplayName  \u001b[0m\u001b[32;1m AuthMethod\u001b[0m\n",
      "\u001b[32;1m-----------  \u001b[0m \u001b[32;1m----------\u001b[0m\n",
      "Isaiah Langer \n",
      "\n",
      "\n",
      "\u001b[32;1mDisplayName   \u001b[0m\u001b[32;1m AuthMethod\u001b[0m\n",
      "\u001b[32;1m-----------   \u001b[0m \u001b[32;1m----------\u001b[0m\n",
      "Johanna Lorenz \n",
      "\n",
      "\n",
      "\u001b[32;1mDisplayName \u001b[0m\u001b[32;1m AuthMethod\u001b[0m\n",
      "\u001b[32;1m----------- \u001b[0m \u001b[32;1m----------\u001b[0m\n",
      "Joni Sherman \n",
      "\n",
      "\n",
      "\u001b[32;1mDisplayName\u001b[0m\u001b[32;1m AuthMethod\u001b[0m\n",
      "\u001b[32;1m-----------\u001b[0m \u001b[32;1m----------\u001b[0m\n",
      "Lee Gu      \n",
      "\n",
      "\n",
      "\u001b[32;1mDisplayName   \u001b[0m\u001b[32;1m AuthMethod\u001b[0m\n",
      "\u001b[32;1m-----------   \u001b[0m \u001b[32;1m----------\u001b[0m\n",
      "Lidia Holloway \n",
      "\n",
      "\n",
      "\u001b[32;1mDisplayName  \u001b[0m\u001b[32;1m AuthMethod\u001b[0m\n",
      "\u001b[32;1m-----------  \u001b[0m \u001b[32;1m----------\u001b[0m\n",
      "Lynne Robbins \n",
      "\n",
      "\n",
      "\u001b[32;1mDisplayName\u001b[0m\u001b[32;1m AuthMethod\u001b[0m\n",
      "\u001b[32;1m-----------\u001b[0m \u001b[32;1m----------\u001b[0m\n",
      "Megan Bowen \n",
      "\n",
      "\n",
      "\u001b[32;1mDisplayName  \u001b[0m\u001b[32;1m AuthMethod\u001b[0m\n",
      "\u001b[32;1m-----------  \u001b[0m \u001b[32;1m----------\u001b[0m\n",
      "Miriam Graham \n",
      "\n",
      "\n",
      "\u001b[32;1mDisplayName \u001b[0m\u001b[32;1m AuthMethod\u001b[0m\n",
      "\u001b[32;1m----------- \u001b[0m \u001b[32;1m----------\u001b[0m\n",
      "Nestor Wilke \n",
      "\n",
      "\n",
      "\u001b[32;1mDisplayName    \u001b[0m\u001b[32;1m AuthMethod\u001b[0m\n",
      "\u001b[32;1m-----------    \u001b[0m \u001b[32;1m----------\u001b[0m\n",
      "Patti Fernandez \n",
      "\n",
      "\n",
      "\u001b[32;1mDisplayName\u001b[0m\u001b[32;1m AuthMethod\u001b[0m\n",
      "\u001b[32;1m-----------\u001b[0m \u001b[32;1m----------\u001b[0m\n",
      "P A         \n",
      "\n",
      "\n",
      "\u001b[32;1mDisplayName  \u001b[0m\u001b[32;1m AuthMethod\u001b[0m\n",
      "\u001b[32;1m-----------  \u001b[0m \u001b[32;1m----------\u001b[0m\n",
      "Pradeep Gupta \n",
      "\n"
     ]
    }
   ],
   "source": [
    "$u | ForEach-Object -Process {\n",
    "                           $methods = get-mguserAuthenticationmethod -userid $_.Id\n",
    "                           $hasMFASetup = $false\n",
    "                           foreach ($m in $methods) {\n",
    "                              $extraProps = $m.ToJsonString()\n",
    "                              $tmpObjArr = @()\n",
    "                              $tmpObj = [pscustomobject]@{\n",
    "                                 DisplayName = $_.DisplayName\n",
    "                                 AuthMethod = $extraProps.\"@odata.type\"\n",
    "                              }\n",
    "                              $tmpObjArr += $tmpObj\n",
    "                           } \n",
    "                           $tmpObjArr | Format-Table\n",
    "                     }                    "
   ]
  },
  {
   "cell_type": "code",
   "execution_count": null,
   "metadata": {
    "dotnet_interactive": {
     "language": "pwsh"
    },
    "polyglot_notebook": {
     "kernelName": "pwsh"
    }
   },
   "outputs": [],
   "source": []
  }
 ],
 "metadata": {
  "kernelspec": {
   "display_name": ".NET (PowerShell)",
   "language": "PowerShell",
   "name": ".net-pwsh"
  },
  "language_info": {
   "name": "polyglot-notebook"
  },
  "polyglot_notebook": {
   "kernelInfo": {
    "defaultKernelName": "pwsh",
    "items": [
     {
      "aliases": [],
      "languageName": "pwsh",
      "name": "pwsh"
     }
    ]
   }
  }
 },
 "nbformat": 4,
 "nbformat_minor": 2
}
