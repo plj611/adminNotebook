{
 "cells": [
  {
   "cell_type": "code",
   "execution_count": 70,
   "metadata": {
    "dotnet_interactive": {
     "language": "pwsh"
    },
    "polyglot_notebook": {
     "kernelName": "pwsh"
    }
   },
   "outputs": [
    {
     "name": "stdout",
     "output_type": "stream",
     "text": [
      "Welcome to Microsoft Graph!\n",
      "\n",
      "Connected via delegated access using 14d82eec-204b-4c2f-b7e8-296a70dab67e\n",
      "Readme: https://aka.ms/graph/sdk/powershell\n",
      "SDK Docs: https://aka.ms/graph/sdk/powershell/docs\n",
      "API Docs: https://aka.ms/graph/docs\n",
      "\n",
      "NOTE: You can use the -NoWelcome parameter to suppress this message.\n",
      "\n"
     ]
    }
   ],
   "source": [
    "connect-mggraph -scopes \"UserAuthenticationMethod.Read.All, User.Read.All\""
   ]
  },
  {
   "cell_type": "code",
   "execution_count": 71,
   "metadata": {
    "dotnet_interactive": {
     "language": "pwsh"
    },
    "polyglot_notebook": {
     "kernelName": "pwsh"
    }
   },
   "outputs": [],
   "source": [
    "$u = get-mguser"
   ]
  },
  {
   "cell_type": "code",
   "execution_count": 72,
   "metadata": {
    "dotnet_interactive": {
     "language": "pwsh"
    },
    "polyglot_notebook": {
     "kernelName": "pwsh"
    }
   },
   "outputs": [
    {
     "name": "stdout",
     "output_type": "stream",
     "text": [
      "\n",
      "\u001b[32;1mDisplayName      \u001b[0m\u001b[32;1m Id                                  \u001b[0m\u001b[32;1m Mail                             \u001b[0m\u001b[32;1m UserPrinci\u001b[0m\n",
      "\u001b[32;1m                 \u001b[0m\u001b[32;1m                                     \u001b[0m\u001b[32;1m                                  \u001b[0m\u001b[32;1m palName\u001b[0m\n",
      "\u001b[32;1m-----------      \u001b[0m \u001b[32;1m--                                  \u001b[0m \u001b[32;1m----                             \u001b[0m \u001b[32;1m----------\u001b[0m\n",
      "Adele Vance       e065d899-0464-4a43-b02a-206028b27982 AdeleV@61b3yr.onmicrosoft.com     AdeleV@61…\n",
      "Alex Wilber       c3a3bf8e-d9d4-4b9a-b7d4-175993bbe726 AlexW@61b3yr.onmicrosoft.com      AlexW@61b…\n",
      "Daniel Carmack    9a2e7c71-2c59-4b80-ada4-19d8534e6d99 Daniel.C@61b3yr.onmicrosoft.com   Daniel.C@…\n",
      "Diego Siciliani   0a02a0f1-48e1-4010-b904-c7650b34c112 DiegoS@61b3yr.onmicrosoft.com     DiegoS@61…\n",
      "Grady Archie      2ea73151-a011-47b5-9a99-8d37adc221b5 GradyA@61b3yr.onmicrosoft.com     GradyA@61…\n",
      "Henrietta Mueller 2c758750-2644-4e13-975f-453e0dfa2263 HenriettaM@61b3yr.onmicrosoft.com Henrietta…\n",
      "Isaiah Langer     f243a1ce-a5e6-42e1-abe1-f49ca450d6a0 IsaiahL@61b3yr.onmicrosoft.com    IsaiahL@6…\n",
      "Johanna Lorenz    40d46eb7-4a18-4fa0-b410-c40c92324624 JohannaL@61b3yr.onmicrosoft.com   JohannaL@…\n",
      "Joni Sherman      96ba2e29-c833-4322-83e1-1f609aa3fe4c JoniS@61b3yr.onmicrosoft.com      JoniS@61b…\n",
      "Lee Gu            98d68316-30d8-43c4-ac35-4319ec3b50e9 LeeG@61b3yr.onmicrosoft.com       LeeG@61b3…\n",
      "Lidia Holloway    a0df3ed6-b117-4faa-aedf-ab78d0d60ac0 LidiaH@61b3yr.onmicrosoft.com     LidiaH@61…\n",
      "Lynne Robbins     27baf846-be3a-4bc0-b382-40d466d82e1b LynneR@61b3yr.onmicrosoft.com     LynneR@61…\n",
      "Megan Bowen       c948120e-0b75-4e47-b758-c6c57bddde64 MeganB@61b3yr.onmicrosoft.com     MeganB@61…\n",
      "Miriam Graham     0e799665-9e0b-4226-97c3-694a49c45c63 MiriamG@61b3yr.onmicrosoft.com    MiriamG@6…\n",
      "Nestor Wilke      33d9a4ec-2426-4c08-b4f3-97459e49cd3b NestorW@61b3yr.onmicrosoft.com    NestorW@6…\n",
      "Patti Fernandez   ac4e7475-bf36-4ac3-b8bd-5e0bb75a630d PattiF@61b3yr.onmicrosoft.com     PattiF@61…\n",
      "P A               b28254f0-80be-45dd-a1f4-d954e1e1a5f3 plj611@61b3yr.onmicrosoft.com     plj611@61…\n",
      "Pradeep Gupta     9091d05e-e280-4b72-8612-fd8e76ae4795 PradeepG@61b3yr.onmicrosoft.com   PradeepG@…\n",
      "\n"
     ]
    }
   ],
   "source": [
    "$u"
   ]
  },
  {
   "cell_type": "code",
   "execution_count": 74,
   "metadata": {
    "dotnet_interactive": {
     "language": "pwsh"
    },
    "polyglot_notebook": {
     "kernelName": "pwsh"
    }
   },
   "outputs": [],
   "source": [
    "$Id9 = $u[9].Id\n"
   ]
  },
  {
   "cell_type": "code",
   "execution_count": 75,
   "metadata": {
    "dotnet_interactive": {
     "language": "pwsh"
    },
    "polyglot_notebook": {
     "kernelName": "pwsh"
    }
   },
   "outputs": [
    {
     "name": "stdout",
     "output_type": "stream",
     "text": [
      "98d68316-30d8-43c4-ac35-4319ec3b50e9\n"
     ]
    }
   ],
   "source": [
    "$Id9"
   ]
  },
  {
   "cell_type": "code",
   "execution_count": 80,
   "metadata": {
    "dotnet_interactive": {
     "language": "pwsh"
    },
    "polyglot_notebook": {
     "kernelName": "pwsh"
    }
   },
   "outputs": [
    {
     "name": "stdout",
     "output_type": "stream",
     "text": [
      "\n",
      "\u001b[32;1mId\u001b[0m\n",
      "\u001b[32;1m--\u001b[0m\n",
      "3179e48a-750b-4051-897c-87b9720928f7\n",
      "28c10230-6103-485e-b985-444c60001490\n",
      "enBnDvzucU792UQaLOlwywon5sdtKb0EBTVq-JJFZkk1\n",
      "Pesj_F4ljvb_GUcBPQTOFVmE2qaqwb-sI004i-d1VAE1\n",
      "tT97bttgYTvaiXpKK9jrSPb2OBrR1QaK6zI3M56INFw1\n",
      "6q91Mrs-H44VzaRduejpkyJOSak0_8a1TYvuLbc5n1U1\n",
      "6f17213b-b1ad-48df-b682-ecd4f437a2ea\n",
      "\n"
     ]
    }
   ],
   "source": [
    "get-mguserAuthenticationmethod -userid $id9 -All\n"
   ]
  },
  {
   "cell_type": "code",
   "execution_count": 77,
   "metadata": {
    "dotnet_interactive": {
     "language": "pwsh"
    },
    "polyglot_notebook": {
     "kernelName": "pwsh"
    }
   },
   "outputs": [
    {
     "name": "stdout",
     "output_type": "stream",
     "text": [
      "\n",
      "   TypeName: Microsoft.Graph.PowerShell.Models.MicrosoftGraphAuthenticationMethod\n",
      "\n",
      "\u001b[32;1mName                \u001b[0m\u001b[32;1m MemberType           \u001b[0m\u001b[32;1m Definition\u001b[0m\n",
      "\u001b[32;1m----                \u001b[0m \u001b[32;1m----------           \u001b[0m \u001b[32;1m----------\u001b[0m\n",
      "Add                  Method                void Add(string key, System.Object value), void IAssoci…\n",
      "Clear                Method                void Clear(), void IAssociativeArray[Object].Clear()\n",
      "ContainsKey          Method                bool ContainsKey(string key), bool IAssociativeArray[Ob…\n",
      "CopyFrom             Method                void CopyFrom(System.Collections.IDictionary source), v…\n",
      "Equals               Method                bool Equals(System.Object obj)\n",
      "GetHashCode          Method                int GetHashCode()\n",
      "GetType              Method                type GetType()\n",
      "Remove               Method                bool Remove(string key), bool IAssociativeArray[Object]…\n",
      "ToJson               Method                Microsoft.Graph.PowerShell.Runtime.Json.JsonNode, Micro…\n",
      "ToJsonString         Method                string ToJsonString()\n",
      "ToString             Method                string ToString()\n",
      "TryGetValue          Method                bool TryGetValue(string key, [ref] System.Object value)…\n",
      "Validate             Method                System.Threading.Tasks.Task Validate(Microsoft.Graph.Po…\n",
      "EntityItem           ParameterizedProperty System.Object EntityItem(string index) {get;set;}\n",
      "Item                 ParameterizedProperty System.Object IAssociativeArray[Object].Item(string ind…\n",
      "AdditionalProperties Property              System.Collections.Generic.IDictionary[string,System.Ob…\n",
      "Id                   Property              string Id {get;set;}\n",
      "\n"
     ]
    }
   ],
   "source": [
    "$method | get-member"
   ]
  },
  {
   "cell_type": "code",
   "execution_count": 78,
   "metadata": {
    "dotnet_interactive": {
     "language": "pwsh"
    },
    "polyglot_notebook": {
     "kernelName": "pwsh"
    }
   },
   "outputs": [
    {
     "name": "stdout",
     "output_type": "stream",
     "text": [
      "{\n",
      "  \"@odata.type\": \"#microsoft.graph.phoneAuthenticationMethod\",\n",
      "  \"phoneNumber\": \"+852 25028662\",\n",
      "  \"phoneType\": \"mobile\",\n",
      "  \"smsSignInState\": \"notAllowedByPolicy\",\n",
      "  \"id\": \"3179e48a-750b-4051-897c-87b9720928f7\"\n",
      "}\n",
      "{\n",
      "  \"@odata.type\": \"#microsoft.graph.passwordAuthenticationMethod\",\n",
      "  \"createdDateTime\": \"2023-12-27T03:40:17Z\",\n",
      "  \"id\": \"28c10230-6103-485e-b985-444c60001490\"\n",
      "}\n",
      "{\n",
      "  \"@odata.type\": \"#microsoft.graph.windowsHelloForBusinessAuthenticationMethod\",\n",
      "  \"displayName\": \"DESKTOP-G9TFT8N\",\n",
      "  \"createdDateTime\": \"2023-12-30T10:57:23Z\",\n",
      "  \"keyStrength\": \"normal\",\n",
      "  \"id\": \"enBnDvzucU792UQaLOlwywon5sdtKb0EBTVq-JJFZkk1\"\n",
      "}\n",
      "{\n",
      "  \"@odata.type\": \"#microsoft.graph.windowsHelloForBusinessAuthenticationMethod\",\n",
      "  \"displayName\": \"\",\n",
      "  \"createdDateTime\": \"2023-12-30T00:03:14Z\",\n",
      "  \"keyStrength\": \"normal\",\n",
      "  \"id\": \"Pesj_F4ljvb_GUcBPQTOFVmE2qaqwb-sI004i-d1VAE1\"\n",
      "}\n",
      "{\n",
      "  \"@odata.type\": \"#microsoft.graph.windowsHelloForBusinessAuthenticationMethod\",\n",
      "  \"displayName\": \"LC21194\",\n",
      "  \"createdDateTime\": \"2023-12-29T07:51:57Z\",\n",
      "  \"keyStrength\": \"normal\",\n",
      "  \"id\": \"tT97bttgYTvaiXpKK9jrSPb2OBrR1QaK6zI3M56INFw1\"\n",
      "}\n",
      "{\n",
      "  \"@odata.type\": \"#microsoft.graph.windowsHelloForBusinessAuthenticationMethod\",\n",
      "  \"displayName\": \"\",\n",
      "  \"createdDateTime\": \"2023-12-29T07:20:33Z\",\n",
      "  \"keyStrength\": \"normal\",\n",
      "  \"id\": \"6q91Mrs-H44VzaRduejpkyJOSak0_8a1TYvuLbc5n1U1\"\n",
      "}\n",
      "{\n",
      "  \"@odata.type\": \"#microsoft.graph.microsoftAuthenticatorAuthenticationMethod\",\n",
      "  \"displayName\": \"iPhone SE (3rd generation)\",\n",
      "  \"deviceTag\": \"SoftwareTokenActivated\",\n",
      "  \"phoneAppVersion\": \"6.8.2\",\n",
      "  \"id\": \"6f17213b-b1ad-48df-b682-ecd4f437a2ea\"\n",
      "}\n"
     ]
    }
   ],
   "source": [
    "$method | ForEach-Object -Process {$_.ToJsonString()} | Format-List"
   ]
  },
  {
   "cell_type": "code",
   "execution_count": 84,
   "metadata": {
    "dotnet_interactive": {
     "language": "pwsh"
    },
    "polyglot_notebook": {
     "kernelName": "pwsh"
    }
   },
   "outputs": [
    {
     "name": "stdout",
     "output_type": "stream",
     "text": [
      "Adele Vance\n",
      "{\n",
      "  \"@odata.type\": \"#microsoft.graph.passwordAuthenticationMethod\",\n",
      "  \"createdDateTime\": \"2023-12-28T03:32:47Z\",\n",
      "  \"id\": \"28c10230-6103-485e-b985-444c60001490\"\n",
      "}\n",
      "Alex Wilber\n",
      "{\n",
      "  \"@odata.type\": \"#microsoft.graph.passwordAuthenticationMethod\",\n",
      "  \"createdDateTime\": \"2023-12-26T10:12:23Z\",\n",
      "  \"id\": \"28c10230-6103-485e-b985-444c60001490\"\n",
      "}\n",
      "Daniel Carmack\n",
      "{\n",
      "  \"@odata.type\": \"#microsoft.graph.passwordAuthenticationMethod\",\n",
      "  \"createdDateTime\": \"2024-02-06T07:19:03Z\",\n",
      "  \"id\": \"28c10230-6103-485e-b985-444c60001490\"\n",
      "}\n",
      "Diego Siciliani\n",
      "{\n",
      "  \"@odata.type\": \"#microsoft.graph.passwordAuthenticationMethod\",\n",
      "  \"createdDateTime\": \"2023-12-26T10:12:23Z\",\n",
      "  \"id\": \"28c10230-6103-485e-b985-444c60001490\"\n",
      "}\n",
      "Grady Archie\n",
      "{\n",
      "  \"@odata.type\": \"#microsoft.graph.passwordAuthenticationMethod\",\n",
      "  \"createdDateTime\": \"2023-12-26T10:12:24Z\",\n",
      "  \"id\": \"28c10230-6103-485e-b985-444c60001490\"\n",
      "}\n",
      "Henrietta Mueller\n",
      "{\n",
      "  \"@odata.type\": \"#microsoft.graph.passwordAuthenticationMethod\",\n",
      "  \"createdDateTime\": \"2023-12-26T10:12:24Z\",\n",
      "  \"id\": \"28c10230-6103-485e-b985-444c60001490\"\n",
      "}\n",
      "Isaiah Langer\n",
      "{\n",
      "  \"@odata.type\": \"#microsoft.graph.passwordAuthenticationMethod\",\n",
      "  \"createdDateTime\": \"2023-12-26T10:12:24Z\",\n",
      "  \"id\": \"28c10230-6103-485e-b985-444c60001490\"\n",
      "}\n",
      "Johanna Lorenz\n",
      "{\n",
      "  \"@odata.type\": \"#microsoft.graph.passwordAuthenticationMethod\",\n",
      "  \"createdDateTime\": \"2023-12-26T10:12:25Z\",\n",
      "  \"id\": \"28c10230-6103-485e-b985-444c60001490\"\n",
      "}\n",
      "Joni Sherman\n",
      "{\n",
      "  \"@odata.type\": \"#microsoft.graph.passwordAuthenticationMethod\",\n",
      "  \"createdDateTime\": \"2023-12-26T10:12:25Z\",\n",
      "  \"id\": \"28c10230-6103-485e-b985-444c60001490\"\n",
      "}\n",
      "Lee Gu\n",
      "{\n",
      "  \"@odata.type\": \"#microsoft.graph.phoneAuthenticationMethod\",\n",
      "  \"phoneNumber\": \"+852 25028662\",\n",
      "  \"phoneType\": \"mobile\",\n",
      "  \"smsSignInState\": \"notAllowedByPolicy\",\n",
      "  \"id\": \"3179e48a-750b-4051-897c-87b9720928f7\"\n",
      "}\n",
      "Lee Gu\n",
      "{\n",
      "  \"@odata.type\": \"#microsoft.graph.passwordAuthenticationMethod\",\n",
      "  \"createdDateTime\": \"2023-12-27T03:40:17Z\",\n",
      "  \"id\": \"28c10230-6103-485e-b985-444c60001490\"\n",
      "}\n",
      "Lee Gu\n",
      "{\n",
      "  \"@odata.type\": \"#microsoft.graph.windowsHelloForBusinessAuthenticationMethod\",\n",
      "  \"displayName\": \"DESKTOP-G9TFT8N\",\n",
      "  \"createdDateTime\": \"2023-12-30T10:57:23Z\",\n",
      "  \"keyStrength\": \"normal\",\n",
      "  \"id\": \"enBnDvzucU792UQaLOlwywon5sdtKb0EBTVq-JJFZkk1\"\n",
      "}\n",
      "Lee Gu\n",
      "{\n",
      "  \"@odata.type\": \"#microsoft.graph.windowsHelloForBusinessAuthenticationMethod\",\n",
      "  \"displayName\": \"\",\n",
      "  \"createdDateTime\": \"2023-12-30T00:03:14Z\",\n",
      "  \"keyStrength\": \"normal\",\n",
      "  \"id\": \"Pesj_F4ljvb_GUcBPQTOFVmE2qaqwb-sI004i-d1VAE1\"\n",
      "}\n",
      "Lee Gu\n",
      "{\n",
      "  \"@odata.type\": \"#microsoft.graph.windowsHelloForBusinessAuthenticationMethod\",\n",
      "  \"displayName\": \"LC21194\",\n",
      "  \"createdDateTime\": \"2023-12-29T07:51:57Z\",\n",
      "  \"keyStrength\": \"normal\",\n",
      "  \"id\": \"tT97bttgYTvaiXpKK9jrSPb2OBrR1QaK6zI3M56INFw1\"\n",
      "}\n",
      "Lee Gu\n",
      "{\n",
      "  \"@odata.type\": \"#microsoft.graph.windowsHelloForBusinessAuthenticationMethod\",\n",
      "  \"displayName\": \"\",\n",
      "  \"createdDateTime\": \"2023-12-29T07:20:33Z\",\n",
      "  \"keyStrength\": \"normal\",\n",
      "  \"id\": \"6q91Mrs-H44VzaRduejpkyJOSak0_8a1TYvuLbc5n1U1\"\n",
      "}\n",
      "Lee Gu\n",
      "{\n",
      "  \"@odata.type\": \"#microsoft.graph.microsoftAuthenticatorAuthenticationMethod\",\n",
      "  \"displayName\": \"iPhone SE (3rd generation)\",\n",
      "  \"deviceTag\": \"SoftwareTokenActivated\",\n",
      "  \"phoneAppVersion\": \"6.8.2\",\n",
      "  \"id\": \"6f17213b-b1ad-48df-b682-ecd4f437a2ea\"\n",
      "}\n",
      "Lidia Holloway\n",
      "{\n",
      "  \"@odata.type\": \"#microsoft.graph.passwordAuthenticationMethod\",\n",
      "  \"createdDateTime\": \"2023-12-26T10:12:25Z\",\n",
      "  \"id\": \"28c10230-6103-485e-b985-444c60001490\"\n",
      "}\n",
      "Lynne Robbins\n",
      "{\n",
      "  \"@odata.type\": \"#microsoft.graph.passwordAuthenticationMethod\",\n",
      "  \"createdDateTime\": \"2023-12-26T10:12:26Z\",\n",
      "  \"id\": \"28c10230-6103-485e-b985-444c60001490\"\n",
      "}\n",
      "Megan Bowen\n",
      "{\n",
      "  \"@odata.type\": \"#microsoft.graph.passwordAuthenticationMethod\",\n",
      "  \"createdDateTime\": \"2023-12-26T10:12:26Z\",\n",
      "  \"id\": \"28c10230-6103-485e-b985-444c60001490\"\n",
      "}\n",
      "Miriam Graham\n",
      "{\n",
      "  \"@odata.type\": \"#microsoft.graph.passwordAuthenticationMethod\",\n",
      "  \"createdDateTime\": \"2023-12-26T10:12:22Z\",\n",
      "  \"id\": \"28c10230-6103-485e-b985-444c60001490\"\n",
      "}\n",
      "Nestor Wilke\n",
      "{\n",
      "  \"@odata.type\": \"#microsoft.graph.passwordAuthenticationMethod\",\n",
      "  \"createdDateTime\": \"2023-12-26T10:12:22Z\",\n",
      "  \"id\": \"28c10230-6103-485e-b985-444c60001490\"\n",
      "}\n",
      "Patti Fernandez\n",
      "{\n",
      "  \"@odata.type\": \"#microsoft.graph.passwordAuthenticationMethod\",\n",
      "  \"createdDateTime\": \"2023-12-26T10:12:21Z\",\n",
      "  \"id\": \"28c10230-6103-485e-b985-444c60001490\"\n",
      "}\n",
      "P A\n",
      "{\n",
      "  \"@odata.type\": \"#microsoft.graph.passwordAuthenticationMethod\",\n",
      "  \"createdDateTime\": \"2023-12-26T10:12:20Z\",\n",
      "  \"id\": \"28c10230-6103-485e-b985-444c60001490\"\n",
      "}\n",
      "P A\n",
      "{\n",
      "  \"@odata.type\": \"#microsoft.graph.microsoftAuthenticatorAuthenticationMethod\",\n",
      "  \"displayName\": \"iPhone SE (3rd generation)\",\n",
      "  \"deviceTag\": \"SoftwareTokenActivated\",\n",
      "  \"phoneAppVersion\": \"6.8.3\",\n",
      "  \"id\": \"a1b76d8e-1762-4459-8f8c-5b4e994b73eb\"\n",
      "}\n",
      "Pradeep Gupta\n",
      "{\n",
      "  \"@odata.type\": \"#microsoft.graph.passwordAuthenticationMethod\",\n",
      "  \"createdDateTime\": \"2023-12-26T10:12:27Z\",\n",
      "  \"id\": \"28c10230-6103-485e-b985-444c60001490\"\n",
      "}\n"
     ]
    }
   ],
   "source": [
    "$u | ForEach-Object -Process {\n",
    "                           $methods = get-mguserAuthenticationmethod -userid $_.Id\n",
    "                           $hasMFASetup = $false\n",
    "                           foreach ($m in $methods) {\n",
    "                              $extraProps = $m.ToJsonString()\n",
    "                              $_.DisplayName\n",
    "                              $extraProps | Format-Table @{Label = \"DisplayName\" ; Expression={$_.DisplayName}}\n",
    "                           } \n",
    "                     }"
   ]
  },
  {
   "cell_type": "code",
   "execution_count": null,
   "metadata": {
    "dotnet_interactive": {
     "language": "pwsh"
    },
    "polyglot_notebook": {
     "kernelName": "pwsh"
    }
   },
   "outputs": [],
   "source": []
  }
 ],
 "metadata": {
  "kernelspec": {
   "display_name": ".NET (PowerShell)",
   "language": "PowerShell",
   "name": ".net-pwsh"
  },
  "language_info": {
   "name": "polyglot-notebook"
  },
  "polyglot_notebook": {
   "kernelInfo": {
    "defaultKernelName": "pwsh",
    "items": [
     {
      "aliases": [],
      "languageName": "pwsh",
      "name": "pwsh"
     }
    ]
   }
  }
 },
 "nbformat": 4,
 "nbformat_minor": 2
}
