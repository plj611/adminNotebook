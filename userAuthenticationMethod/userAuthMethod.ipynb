{
 "cells": [
  {
   "cell_type": "code",
   "execution_count": 20,
   "metadata": {
    "dotnet_interactive": {
     "language": "pwsh"
    },
    "polyglot_notebook": {
     "kernelName": "pwsh"
    }
   },
   "outputs": [
    {
     "name": "stdout",
     "output_type": "stream",
     "text": [
      "Welcome to Microsoft Graph!\n",
      "\n",
      "Connected via delegated access using 14d82eec-204b-4c2f-b7e8-296a70dab67e\n",
      "Readme: https://aka.ms/graph/sdk/powershell\n",
      "SDK Docs: https://aka.ms/graph/sdk/powershell/docs\n",
      "API Docs: https://aka.ms/graph/docs\n",
      "\n",
      "NOTE: You can use the -NoWelcome parameter to suppress this message.\n",
      "\n"
     ]
    },
    {
     "ename": "Error",
     "evalue": "Command failed: SubmitCode: connect-mggraph -scopes \"UserAuthenticationMethod. ...",
     "output_type": "error",
     "traceback": [
      "Command failed: SubmitCode: connect-mggraph -scopes \"UserAuthenticationMethod. ..."
     ]
    }
   ],
   "source": [
    "connect-mggraph -scopes \"UserAuthenticationMethod.Read.All, User.Read.All\""
   ]
  },
  {
   "cell_type": "code",
   "execution_count": 21,
   "metadata": {
    "dotnet_interactive": {
     "language": "pwsh"
    },
    "polyglot_notebook": {
     "kernelName": "pwsh"
    }
   },
   "outputs": [],
   "source": [
    "$u = get-mguser"
   ]
  },
  {
   "cell_type": "code",
   "execution_count": 22,
   "metadata": {
    "dotnet_interactive": {
     "language": "pwsh"
    },
    "polyglot_notebook": {
     "kernelName": "pwsh"
    }
   },
   "outputs": [
    {
     "name": "stdout",
     "output_type": "stream",
     "text": [
      "\n",
      "\u001b[32;1mDisplayName      \u001b[0m\u001b[32;1m Id                                  \u001b[0m\u001b[32;1m Mail                             \u001b[0m\u001b[32;1m UserPrinci\u001b[0m\n",
      "\u001b[32;1m                 \u001b[0m\u001b[32;1m                                     \u001b[0m\u001b[32;1m                                  \u001b[0m\u001b[32;1m palName\u001b[0m\n",
      "\u001b[32;1m-----------      \u001b[0m \u001b[32;1m--                                  \u001b[0m \u001b[32;1m----                             \u001b[0m \u001b[32;1m----------\u001b[0m\n",
      "Adele Vance       e065d899-0464-4a43-b02a-206028b27982 AdeleV@61b3yr.onmicrosoft.com     AdeleV@61…\n",
      "Alex Wilber       c3a3bf8e-d9d4-4b9a-b7d4-175993bbe726 AlexW@61b3yr.onmicrosoft.com      AlexW@61b…\n",
      "Daniel Carmack    9a2e7c71-2c59-4b80-ada4-19d8534e6d99 Daniel.C@61b3yr.onmicrosoft.com   Daniel.C@…\n",
      "Diego Siciliani   0a02a0f1-48e1-4010-b904-c7650b34c112 DiegoS@61b3yr.onmicrosoft.com     DiegoS@61…\n",
      "Grady Archie      2ea73151-a011-47b5-9a99-8d37adc221b5 GradyA@61b3yr.onmicrosoft.com     GradyA@61…\n",
      "Henrietta Mueller 2c758750-2644-4e13-975f-453e0dfa2263 HenriettaM@61b3yr.onmicrosoft.com Henrietta…\n",
      "Isaiah Langer     f243a1ce-a5e6-42e1-abe1-f49ca450d6a0 IsaiahL@61b3yr.onmicrosoft.com    IsaiahL@6…\n",
      "Johanna Lorenz    40d46eb7-4a18-4fa0-b410-c40c92324624 JohannaL@61b3yr.onmicrosoft.com   JohannaL@…\n",
      "Joni Sherman      96ba2e29-c833-4322-83e1-1f609aa3fe4c JoniS@61b3yr.onmicrosoft.com      JoniS@61b…\n",
      "Lee Gu            98d68316-30d8-43c4-ac35-4319ec3b50e9 LeeG@61b3yr.onmicrosoft.com       LeeG@61b3…\n",
      "Lidia Holloway    a0df3ed6-b117-4faa-aedf-ab78d0d60ac0 LidiaH@61b3yr.onmicrosoft.com     LidiaH@61…\n",
      "Lynne Robbins     27baf846-be3a-4bc0-b382-40d466d82e1b LynneR@61b3yr.onmicrosoft.com     LynneR@61…\n",
      "Megan Bowen       c948120e-0b75-4e47-b758-c6c57bddde64 MeganB@61b3yr.onmicrosoft.com     MeganB@61…\n",
      "Miriam Graham     0e799665-9e0b-4226-97c3-694a49c45c63 MiriamG@61b3yr.onmicrosoft.com    MiriamG@6…\n",
      "Nestor Wilke      33d9a4ec-2426-4c08-b4f3-97459e49cd3b NestorW@61b3yr.onmicrosoft.com    NestorW@6…\n",
      "Patti Fernandez   ac4e7475-bf36-4ac3-b8bd-5e0bb75a630d PattiF@61b3yr.onmicrosoft.com     PattiF@61…\n",
      "P A               b28254f0-80be-45dd-a1f4-d954e1e1a5f3 plj611@61b3yr.onmicrosoft.com     plj611@61…\n",
      "Pradeep Gupta     9091d05e-e280-4b72-8612-fd8e76ae4795 PradeepG@61b3yr.onmicrosoft.com   PradeepG@…\n",
      "\n"
     ]
    }
   ],
   "source": [
    "$u"
   ]
  },
  {
   "cell_type": "code",
   "execution_count": 27,
   "metadata": {
    "dotnet_interactive": {
     "language": "pwsh"
    },
    "polyglot_notebook": {
     "kernelName": "pwsh"
    }
   },
   "outputs": [],
   "source": [
    "$Id9 = $u[9].Id\n"
   ]
  },
  {
   "cell_type": "code",
   "execution_count": 28,
   "metadata": {
    "dotnet_interactive": {
     "language": "pwsh"
    },
    "polyglot_notebook": {
     "kernelName": "pwsh"
    }
   },
   "outputs": [
    {
     "name": "stdout",
     "output_type": "stream",
     "text": [
      "98d68316-30d8-43c4-ac35-4319ec3b50e9\n"
     ]
    }
   ],
   "source": [
    "$Id9"
   ]
  },
  {
   "cell_type": "code",
   "execution_count": 37,
   "metadata": {
    "dotnet_interactive": {
     "language": "pwsh"
    },
    "polyglot_notebook": {
     "kernelName": "pwsh"
    }
   },
   "outputs": [],
   "source": [
    "$method = get-mguserAuthenticationmethod -userid $id9\n"
   ]
  },
  {
   "cell_type": "code",
   "execution_count": 39,
   "metadata": {
    "dotnet_interactive": {
     "language": "pwsh"
    },
    "polyglot_notebook": {
     "kernelName": "pwsh"
    }
   },
   "outputs": [
    {
     "name": "stdout",
     "output_type": "stream",
     "text": [
      "\n",
      "   TypeName: Microsoft.Graph.PowerShell.Models.MicrosoftGraphAuthenticationMethod\n",
      "\n",
      "\u001b[32;1mName                \u001b[0m\u001b[32;1m MemberType           \u001b[0m\u001b[32;1m Definition\u001b[0m\n",
      "\u001b[32;1m----                \u001b[0m \u001b[32;1m----------           \u001b[0m \u001b[32;1m----------\u001b[0m\n",
      "Add                  Method                void Add(string key, System.Object value), void IAssoci…\n",
      "Clear                Method                void Clear(), void IAssociativeArray[Object].Clear()\n",
      "ContainsKey          Method                bool ContainsKey(string key), bool IAssociativeArray[Ob…\n",
      "CopyFrom             Method                void CopyFrom(System.Collections.IDictionary source), v…\n",
      "Equals               Method                bool Equals(System.Object obj)\n",
      "GetHashCode          Method                int GetHashCode()\n",
      "GetType              Method                type GetType()\n",
      "Remove               Method                bool Remove(string key), bool IAssociativeArray[Object]…\n",
      "ToJson               Method                Microsoft.Graph.PowerShell.Runtime.Json.JsonNode, Micro…\n",
      "ToJsonString         Method                string ToJsonString()\n",
      "ToString             Method                string ToString()\n",
      "TryGetValue          Method                bool TryGetValue(string key, [ref] System.Object value)…\n",
      "Validate             Method                System.Threading.Tasks.Task Validate(Microsoft.Graph.Po…\n",
      "EntityItem           ParameterizedProperty System.Object EntityItem(string index) {get;set;}\n",
      "Item                 ParameterizedProperty System.Object IAssociativeArray[Object].Item(string ind…\n",
      "AdditionalProperties Property              System.Collections.Generic.IDictionary[string,System.Ob…\n",
      "Id                   Property              string Id {get;set;}\n",
      "\n"
     ]
    }
   ],
   "source": [
    "$method | get-member"
   ]
  },
  {
   "cell_type": "code",
   "execution_count": 61,
   "metadata": {
    "dotnet_interactive": {
     "language": "pwsh"
    },
    "polyglot_notebook": {
     "kernelName": "pwsh"
    }
   },
   "outputs": [
    {
     "name": "stdout",
     "output_type": "stream",
     "text": [
      "{\n",
      "  \"@odata.type\": \"#microsoft.graph.microsoftAuthenticatorAuthenticationMethod\",\n",
      "  \"displayName\": \"iPhone SE (3rd generation)\",\n",
      "  \"deviceTag\": \"SoftwareTokenActivated\",\n",
      "  \"phoneAppVersion\": \"6.8.2\",\n",
      "  \"id\": \"6f17213b-b1ad-48df-b682-ecd4f437a2ea\"\n",
      "}\n"
     ]
    }
   ],
   "source": [
    "$method[5].ToJsonString()"
   ]
  },
  {
   "cell_type": "code",
   "execution_count": null,
   "metadata": {
    "dotnet_interactive": {
     "language": "pwsh"
    },
    "polyglot_notebook": {
     "kernelName": "pwsh"
    }
   },
   "outputs": [],
   "source": []
  }
 ],
 "metadata": {
  "kernelspec": {
   "display_name": ".NET (PowerShell)",
   "language": "PowerShell",
   "name": ".net-pwsh"
  },
  "language_info": {
   "name": "polyglot-notebook"
  },
  "polyglot_notebook": {
   "kernelInfo": {
    "defaultKernelName": "pwsh",
    "items": [
     {
      "aliases": [],
      "languageName": "pwsh",
      "name": "pwsh"
     }
    ]
   }
  }
 },
 "nbformat": 4,
 "nbformat_minor": 2
}
