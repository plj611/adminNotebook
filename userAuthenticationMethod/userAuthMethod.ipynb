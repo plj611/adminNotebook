{
 "cells": [
  {
   "cell_type": "markdown",
   "metadata": {},
   "source": [
    "# userAuthMethod\n",
    "\n",
    "### This notebook shows the use of Microsoft Graph PowerShell to locate user who does not have his MFA setup properly. The cmdlet Get-MguserAuthenticationMethod is used. If an user has setup MFA properly, he should have \"#microsoft.graph.microsoftAuthenticatorAuthenticationMethod\" and/ or \"#microsoft.graph.phoneAuthenticationMethod\" as return."
   ]
  },
  {
   "cell_type": "code",
   "execution_count": 13,
   "metadata": {
    "dotnet_interactive": {
     "language": "pwsh"
    },
    "polyglot_notebook": {
     "kernelName": "pwsh"
    }
   },
   "outputs": [
    {
     "name": "stdout",
     "output_type": "stream",
     "text": [
      "To sign in, use a web browser to open the page https://microsoft.com/devicelogin and enter the code IUX3DZQXV to authenticate.\n",
      "Welcome to Microsoft Graph!\n",
      "\n",
      "Connected via delegated access using 14d82eec-204b-4c2f-b7e8-296a70dab67e\n",
      "Readme: https://aka.ms/graph/sdk/powershell\n",
      "SDK Docs: https://aka.ms/graph/sdk/powershell/docs\n",
      "API Docs: https://aka.ms/graph/docs\n",
      "\n",
      "NOTE: You can use the -NoWelcome parameter to suppress this message.\n",
      "\n"
     ]
    }
   ],
   "source": [
    "connect-mggraph -scopes \"UserAuthenticationMethod.Read.All, User.Read.All\""
   ]
  },
  {
   "cell_type": "code",
   "execution_count": 14,
   "metadata": {
    "dotnet_interactive": {
     "language": "pwsh"
    },
    "polyglot_notebook": {
     "kernelName": "pwsh"
    }
   },
   "outputs": [],
   "source": [
    "$users = get-mguser -all"
   ]
  },
  {
   "cell_type": "code",
   "execution_count": 15,
   "metadata": {
    "dotnet_interactive": {
     "language": "pwsh"
    },
    "polyglot_notebook": {
     "kernelName": "pwsh"
    }
   },
   "outputs": [
    {
     "name": "stdout",
     "output_type": "stream",
     "text": [
      "\n",
      "\u001b[32;1mDisplayName      \u001b[0m\u001b[32;1m Id                                  \u001b[0m\u001b[32;1m Mail                             \u001b[0m\u001b[32;1m UserPrinci\u001b[0m\n",
      "\u001b[32;1m                 \u001b[0m\u001b[32;1m                                     \u001b[0m\u001b[32;1m                                  \u001b[0m\u001b[32;1m palName\u001b[0m\n",
      "\u001b[32;1m-----------      \u001b[0m \u001b[32;1m--                                  \u001b[0m \u001b[32;1m----                             \u001b[0m \u001b[32;1m----------\u001b[0m\n",
      "Adele Vance       e065d899-0464-4a43-b02a-206028b27982 AdeleV@61b3yr.onmicrosoft.com     AdeleV@61…\n",
      "Alex Wilber       c3a3bf8e-d9d4-4b9a-b7d4-175993bbe726 AlexW@61b3yr.onmicrosoft.com      AlexW@61b…\n",
      "Daniel Carmack    9a2e7c71-2c59-4b80-ada4-19d8534e6d99 Daniel.C@61b3yr.onmicrosoft.com   Daniel.C@…\n",
      "Diego Siciliani   0a02a0f1-48e1-4010-b904-c7650b34c112 DiegoS@61b3yr.onmicrosoft.com     DiegoS@61…\n",
      "Grady Archie      2ea73151-a011-47b5-9a99-8d37adc221b5 GradyA@61b3yr.onmicrosoft.com     GradyA@61…\n",
      "Henrietta Mueller 2c758750-2644-4e13-975f-453e0dfa2263 HenriettaM@61b3yr.onmicrosoft.com Henrietta…\n",
      "Isaiah Langer     f243a1ce-a5e6-42e1-abe1-f49ca450d6a0 IsaiahL@61b3yr.onmicrosoft.com    IsaiahL@6…\n",
      "Johanna Lorenz    40d46eb7-4a18-4fa0-b410-c40c92324624 JohannaL@61b3yr.onmicrosoft.com   JohannaL@…\n",
      "Joni Sherman      96ba2e29-c833-4322-83e1-1f609aa3fe4c JoniS@61b3yr.onmicrosoft.com      JoniS@61b…\n",
      "Lee Gu            98d68316-30d8-43c4-ac35-4319ec3b50e9 LeeG@61b3yr.onmicrosoft.com       LeeG@61b3…\n",
      "Lidia Holloway    a0df3ed6-b117-4faa-aedf-ab78d0d60ac0 LidiaH@61b3yr.onmicrosoft.com     LidiaH@61…\n",
      "Lynne Robbins     27baf846-be3a-4bc0-b382-40d466d82e1b LynneR@61b3yr.onmicrosoft.com     LynneR@61…\n",
      "Megan Bowen       c948120e-0b75-4e47-b758-c6c57bddde64 MeganB@61b3yr.onmicrosoft.com     MeganB@61…\n",
      "Miriam Graham     0e799665-9e0b-4226-97c3-694a49c45c63 MiriamG@61b3yr.onmicrosoft.com    MiriamG@6…\n",
      "Nestor Wilke      33d9a4ec-2426-4c08-b4f3-97459e49cd3b NestorW@61b3yr.onmicrosoft.com    NestorW@6…\n",
      "Patti Fernandez   ac4e7475-bf36-4ac3-b8bd-5e0bb75a630d PattiF@61b3yr.onmicrosoft.com     PattiF@61…\n",
      "P A               b28254f0-80be-45dd-a1f4-d954e1e1a5f3 plj611@61b3yr.onmicrosoft.com     plj611@61…\n",
      "Pradeep Gupta     9091d05e-e280-4b72-8612-fd8e76ae4795 PradeepG@61b3yr.onmicrosoft.com   PradeepG@…\n",
      "\n"
     ]
    }
   ],
   "source": [
    "$users"
   ]
  },
  {
   "cell_type": "code",
   "execution_count": 16,
   "metadata": {
    "dotnet_interactive": {
     "language": "pwsh"
    },
    "polyglot_notebook": {
     "kernelName": "pwsh"
    }
   },
   "outputs": [
    {
     "name": "stdout",
     "output_type": "stream",
     "text": [
      "\n",
      "\u001b[32;1mDisplayName      \u001b[0m\u001b[32;1m AuthMethod\u001b[0m\n",
      "\u001b[32;1m-----------      \u001b[0m \u001b[32;1m----------\u001b[0m\n",
      "Adele Vance       #microsoft.graph.passwordAuthenticationMethod\n",
      "Alex Wilber       #microsoft.graph.passwordAuthenticationMethod\n",
      "Daniel Carmack    #microsoft.graph.passwordAuthenticationMethod\n",
      "Diego Siciliani   #microsoft.graph.passwordAuthenticationMethod\n",
      "Grady Archie      #microsoft.graph.passwordAuthenticationMethod\n",
      "Henrietta Mueller #microsoft.graph.passwordAuthenticationMethod\n",
      "Isaiah Langer     #microsoft.graph.passwordAuthenticationMethod\n",
      "Johanna Lorenz    #microsoft.graph.passwordAuthenticationMethod\n",
      "Joni Sherman      #microsoft.graph.passwordAuthenticationMethod\n",
      "Lee Gu            #microsoft.graph.phoneAuthenticationMethod\n",
      "Lee Gu            #microsoft.graph.passwordAuthenticationMethod\n",
      "Lee Gu            #microsoft.graph.windowsHelloForBusinessAuthenticationMethod\n",
      "Lee Gu            #microsoft.graph.windowsHelloForBusinessAuthenticationMethod\n",
      "Lee Gu            #microsoft.graph.windowsHelloForBusinessAuthenticationMethod\n",
      "Lee Gu            #microsoft.graph.windowsHelloForBusinessAuthenticationMethod\n",
      "Lee Gu            #microsoft.graph.microsoftAuthenticatorAuthenticationMethod\n",
      "Lidia Holloway    #microsoft.graph.passwordAuthenticationMethod\n",
      "Lynne Robbins     #microsoft.graph.passwordAuthenticationMethod\n",
      "Megan Bowen       #microsoft.graph.passwordAuthenticationMethod\n",
      "Miriam Graham     #microsoft.graph.passwordAuthenticationMethod\n",
      "Nestor Wilke      #microsoft.graph.passwordAuthenticationMethod\n",
      "Patti Fernandez   #microsoft.graph.passwordAuthenticationMethod\n",
      "P A               #microsoft.graph.passwordAuthenticationMethod\n",
      "P A               #microsoft.graph.microsoftAuthenticatorAuthenticationMethod\n",
      "Pradeep Gupta     #microsoft.graph.passwordAuthenticationMethod\n",
      "\n"
     ]
    }
   ],
   "source": [
    "# get all auth methods\n",
    "\n",
    "$tmpObjArr = @()\n",
    "$users | ForEach-Object -Process {\n",
    "                           $methods = get-mguserAuthenticationmethod -userid $_.Id\n",
    "                           $hasMFASetup = $false\n",
    "                           \n",
    "                           foreach ($m in $methods) {\n",
    "                              $extraProps = $m.ToJsonString() | ConvertFrom-Json\n",
    "                              $tmpObj = [pscustomobject] @{\n",
    "                                 DisplayName = $_.DisplayName\n",
    "                                 AuthMethod = $extraProps.\"@odata.type\"\n",
    "                              }\n",
    "                              # $tmpObj\n",
    "                              $tmpObjArr += $tmpObj\n",
    "                           } \n",
    "                    } `\n",
    "                    -End { $tmpObjArr | Format-Table }"
   ]
  },
  {
   "cell_type": "code",
   "execution_count": 17,
   "metadata": {
    "dotnet_interactive": {
     "language": "pwsh"
    },
    "polyglot_notebook": {
     "kernelName": "pwsh"
    }
   },
   "outputs": [
    {
     "name": "stdout",
     "output_type": "stream",
     "text": [
      "Adele Vance has not setup MFA properly\n",
      "Alex Wilber has not setup MFA properly\n",
      "Daniel Carmack has not setup MFA properly\n",
      "Diego Siciliani has not setup MFA properly\n",
      "Grady Archie has not setup MFA properly\n",
      "Henrietta Mueller has not setup MFA properly\n",
      "Isaiah Langer has not setup MFA properly\n",
      "Johanna Lorenz has not setup MFA properly\n",
      "Joni Sherman has not setup MFA properly\n",
      "Lidia Holloway has not setup MFA properly\n",
      "Lynne Robbins has not setup MFA properly\n",
      "Megan Bowen has not setup MFA properly\n",
      "Miriam Graham has not setup MFA properly\n",
      "Nestor Wilke has not setup MFA properly\n",
      "Patti Fernandez has not setup MFA properly\n"
     ]
    }
   ],
   "source": [
    "# filter the $tmpObjArr using regular expressions \".*phone.*\", \".*Authenticator.*\" and look for users\n",
    "# without these auth methods\n",
    "\n",
    "$name = $null\n",
    "$MFASetup = $false\n",
    "foreach ($r in $tmpObjArr)\n",
    "{\n",
    "   if ($r.DisplayName -ne $name)\n",
    "   {\n",
    "      if ($name -ne $null)\n",
    "      {\n",
    "         if (!$MFASetup) {\n",
    "            \"{0} has not setup MFA properly\" -f $name\n",
    "         }\n",
    "      }\n",
    "      $name = $r.DisplayName\n",
    "      $MFASetup = $false\n",
    "   }\n",
    "   if ($r.AuthMethod -match \".*phone.*\" -Or $r.AuthMethod -match \".*Authenticator.*\")\n",
    "   {\n",
    "      $MFASetup = $true\n",
    "   }\n",
    "}"
   ]
  },
  {
   "cell_type": "code",
   "execution_count": 18,
   "metadata": {
    "dotnet_interactive": {
     "language": "pwsh"
    },
    "polyglot_notebook": {
     "kernelName": "pwsh"
    }
   },
   "outputs": [
    {
     "name": "stdout",
     "output_type": "stream",
     "text": [
      "\n",
      "\u001b[32;1mClientId               : \u001b[0m14d82eec-204b-4c2f-b7e8-296a70dab67e\n",
      "\u001b[32;1mTenantId               : \u001b[0m387d3aa5-b60a-4c48-9073-210676be29fc\n",
      "\u001b[32;1mScopes                 : \u001b[0m{AuditLog.Read.All, Group.ReadWrite.All, openid, profile…}\n",
      "\u001b[32;1mAuthType               : \u001b[0mDelegated\n",
      "\u001b[32;1mTokenCredentialType    : \u001b[0mDeviceCode\n",
      "\u001b[32;1mCertificateThumbprint  : \u001b[0m\n",
      "\u001b[32;1mCertificateSubjectName : \u001b[0m\n",
      "\u001b[32;1mAccount                : \u001b[0mplj611@61b3yr.onmicrosoft.com\n",
      "\u001b[32;1mAppName                : \u001b[0mMicrosoft Graph Command Line Tools\n",
      "\u001b[32;1mContextScope           : \u001b[0mProcess\n",
      "\u001b[32;1mCertificate            : \u001b[0m\n",
      "\u001b[32;1mPSHostVersion          : \u001b[0m1.0.0\n",
      "\u001b[32;1mManagedIdentityId      : \u001b[0m\n",
      "\u001b[32;1mClientSecret           : \u001b[0m\n",
      "\u001b[32;1mEnvironment            : \u001b[0mGlobal\n",
      "\n"
     ]
    }
   ],
   "source": [
    "Disconnect-MgGraph"
   ]
  }
 ],
 "metadata": {
  "kernelspec": {
   "display_name": ".NET (C#)",
   "language": "C#",
   "name": ".net-csharp"
  },
  "language_info": {
   "name": "polyglot-notebook"
  },
  "polyglot_notebook": {
   "kernelInfo": {
    "defaultKernelName": "csharp",
    "items": [
     {
      "aliases": [],
      "name": "csharp"
     },
     {
      "aliases": [],
      "languageName": "pwsh",
      "name": "pwsh"
     }
    ]
   }
  }
 },
 "nbformat": 4,
 "nbformat_minor": 2
}
