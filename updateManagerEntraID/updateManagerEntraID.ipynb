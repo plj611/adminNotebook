{
 "cells": [
  {
   "cell_type": "markdown",
   "metadata": {},
   "source": [
    "# UpdateManagerEntraID\n",
    "\n",
    "### This notebook shows the step by step of using Powershell Graph SDK (Set-MgUserManagerByRef) to edit/ update the manager of EntraID user.\n",
    "\n",
    "### First it will show how to export the EntraID user properties from a fiction tenant. Then, it will show how to build a user to object id and a object id to user hash. It will use the hash to record the initial manager status. \n",
    "\n",
    "### After that, it will show setting up the table structure and update the user's manager."
   ]
  },
  {
   "cell_type": "markdown",
   "metadata": {},
   "source": [
    "## Export user to csv"
   ]
  },
  {
   "cell_type": "code",
   "execution_count": null,
   "metadata": {
    "dotnet_interactive": {
     "language": "pwsh"
    },
    "polyglot_notebook": {
     "kernelName": "pwsh"
    }
   },
   "outputs": [],
   "source": [
    "# export the EntraID user into users.csv"
   ]
  },
  {
   "cell_type": "markdown",
   "metadata": {},
   "source": [
    "![export](./exportUsers.jpg)"
   ]
  },
  {
   "cell_type": "code",
   "execution_count": 1,
   "metadata": {
    "dotnet_interactive": {
     "language": "pwsh"
    },
    "polyglot_notebook": {
     "kernelName": "pwsh"
    }
   },
   "outputs": [],
   "source": [
    "# assume the filename is users.csv\n",
    "\n",
    "$u = Import-Csv './users.csv'"
   ]
  },
  {
   "cell_type": "code",
   "execution_count": 2,
   "metadata": {
    "dotnet_interactive": {
     "language": "pwsh"
    },
    "polyglot_notebook": {
     "kernelName": "pwsh"
    }
   },
   "outputs": [],
   "source": [
    "$userToIdHash = @{}\n",
    "$idToUserHash = @{}\n",
    "\n",
    "$u | ForEach-Object -process {\n",
    "   $t = @{$_.'Display name' = $_.'Object Id'}\n",
    "   $userToIdHash += $t\n",
    "\n",
    "   $t = @{$_.'Object Id' = $_.'Display name'}\n",
    "   $idToUserHash += $t\n",
    "}"
   ]
  },
  {
   "cell_type": "code",
   "execution_count": 8,
   "metadata": {
    "dotnet_interactive": {
     "language": "pwsh"
    },
    "polyglot_notebook": {
     "kernelName": "pwsh"
    }
   },
   "outputs": [
    {
     "name": "stdout",
     "output_type": "stream",
     "text": [
      "\n",
      "\u001b[32;1mName                          \u001b[0m\u001b[32;1m Value\u001b[0m\n",
      "\u001b[32;1m----                          \u001b[0m \u001b[32;1m-----\u001b[0m\n",
      "Alex Wilber                    c3a3bf8e-d9d4-4b9a-b7d4-175993bbe726\n",
      "Megan Bowen                    c948120e-0b75-4e47-b758-c6c57bddde64\n",
      "Pradeep Gupta                  9091d05e-e280-4b72-8612-fd8e76ae4795\n",
      "Joni Sherman                   96ba2e29-c833-4322-83e1-1f609aa3fe4c\n",
      "P A                            b28254f0-80be-45dd-a1f4-d954e1e1a5f3\n",
      "Nestor Wilke                   33d9a4ec-2426-4c08-b4f3-97459e49cd3b\n",
      "Lidia Holloway                 a0df3ed6-b117-4faa-aedf-ab78d0d60ac0\n",
      "Adele Vance                    e065d899-0464-4a43-b02a-206028b27982\n",
      "Lee Gu                         98d68316-30d8-43c4-ac35-4319ec3b50e9\n",
      "Patti Fernandez                ac4e7475-bf36-4ac3-b8bd-5e0bb75a630d\n",
      "Lynne Robbins                  27baf846-be3a-4bc0-b382-40d466d82e1b\n",
      "Isaiah Langer                  f243a1ce-a5e6-42e1-abe1-f49ca450d6a0\n",
      "Johanna Lorenz                 40d46eb7-4a18-4fa0-b410-c40c92324624\n",
      "Diego Siciliani                0a02a0f1-48e1-4010-b904-c7650b34c112\n",
      "Miriam Graham                  0e799665-9e0b-4226-97c3-694a49c45c63\n",
      "Daniel Carmack                 9a2e7c71-2c59-4b80-ada4-19d8534e6d99\n",
      "Henrietta Mueller              2c758750-2644-4e13-975f-453e0dfa2263\n",
      "Grady Archie                   2ea73151-a011-47b5-9a99-8d37adc221b5\n",
      "\n"
     ]
    }
   ],
   "source": [
    "$userToIdHash"
   ]
  },
  {
   "cell_type": "code",
   "execution_count": 9,
   "metadata": {
    "dotnet_interactive": {
     "language": "pwsh"
    },
    "polyglot_notebook": {
     "kernelName": "pwsh"
    }
   },
   "outputs": [
    {
     "name": "stdout",
     "output_type": "stream",
     "text": [
      "\n",
      "\u001b[32;1mName                          \u001b[0m\u001b[32;1m Value\u001b[0m\n",
      "\u001b[32;1m----                          \u001b[0m \u001b[32;1m-----\u001b[0m\n",
      "40d46eb7-4a18-4fa0-b410-c40c9… Johanna Lorenz\n",
      "e065d899-0464-4a43-b02a-20602… Adele Vance\n",
      "9091d05e-e280-4b72-8612-fd8e7… Pradeep Gupta\n",
      "b28254f0-80be-45dd-a1f4-d954e… P A\n",
      "2c758750-2644-4e13-975f-453e0… Henrietta Mueller\n",
      "27baf846-be3a-4bc0-b382-40d46… Lynne Robbins\n",
      "0e799665-9e0b-4226-97c3-694a4… Miriam Graham\n",
      "96ba2e29-c833-4322-83e1-1f609… Joni Sherman\n",
      "2ea73151-a011-47b5-9a99-8d37a… Grady Archie\n",
      "33d9a4ec-2426-4c08-b4f3-97459… Nestor Wilke\n",
      "98d68316-30d8-43c4-ac35-4319e… Lee Gu\n",
      "f243a1ce-a5e6-42e1-abe1-f49ca… Isaiah Langer\n",
      "a0df3ed6-b117-4faa-aedf-ab78d… Lidia Holloway\n",
      "0a02a0f1-48e1-4010-b904-c7650… Diego Siciliani\n",
      "c3a3bf8e-d9d4-4b9a-b7d4-17599… Alex Wilber\n",
      "9a2e7c71-2c59-4b80-ada4-19d85… Daniel Carmack\n",
      "c948120e-0b75-4e47-b758-c6c57… Megan Bowen\n",
      "ac4e7475-bf36-4ac3-b8bd-5e0bb… Patti Fernandez\n",
      "\n"
     ]
    }
   ],
   "source": [
    "$idToUserHash"
   ]
  },
  {
   "cell_type": "markdown",
   "metadata": {},
   "source": [
    "## Record the manager status of the tenant \n"
   ]
  },
  {
   "cell_type": "code",
   "execution_count": 5,
   "metadata": {
    "dotnet_interactive": {
     "language": "pwsh"
    },
    "polyglot_notebook": {
     "kernelName": "pwsh"
    }
   },
   "outputs": [
    {
     "name": "stdout",
     "output_type": "stream",
     "text": [
      "Welcome to Microsoft Graph!\r\n",
      "\r\n",
      "Connected via delegated access using 14d82eec-204b-4c2f-b7e8-296a70dab67e\r\n",
      "Readme: https://aka.ms/graph/sdk/powershell\r\n",
      "SDK Docs: https://aka.ms/graph/sdk/powershell/docs\r\n",
      "API Docs: https://aka.ms/graph/docs\r\n",
      "\r\n",
      "NOTE: You can use the -NoWelcome parameter to suppress this message.\r\n",
      "\r\n"
     ]
    }
   ],
   "source": [
    "Connect-MgGraph"
   ]
  },
  {
   "cell_type": "code",
   "execution_count": 6,
   "metadata": {
    "dotnet_interactive": {
     "language": "pwsh"
    },
    "polyglot_notebook": {
     "kernelName": "pwsh"
    }
   },
   "outputs": [],
   "source": [
    "$users = Get-MgUser"
   ]
  },
  {
   "cell_type": "code",
   "execution_count": 7,
   "metadata": {
    "dotnet_interactive": {
     "language": "pwsh"
    },
    "polyglot_notebook": {
     "kernelName": "pwsh"
    }
   },
   "outputs": [
    {
     "ename": "Error",
     "evalue": "Command failed: SubmitCode: $users | ForEach-Object -Begin {$userManagerArr =  ...",
     "output_type": "error",
     "traceback": [
      "Command failed: SubmitCode: $users | ForEach-Object -Begin {$userManagerArr =  ..."
     ]
    }
   ],
   "source": [
    "$users | ForEach-Object -Begin {$userManagerArr = @()} `\n",
    "                        -Process {\n",
    "                                    $userManagerId = Get-MgUserManager -UserId $_.Id -ErrorAction SilentlyContinue\n",
    "                                    if ($userManagerId) {\n",
    "                                        $userManager = $idToUserHash[$userManagerId.Id]\n",
    "                                    }\n",
    "                                    else {\n",
    "                                        $userManager = 'No Manager'\n",
    "                                    }\n",
    "                                    $userManagerArr += [PSCustomObject] @{Name = $_.DisplayName;\n",
    "                                                                            Manager = $userManager;\n",
    "                                                                            ManagerId = $userManagerId.Id}\n",
    "                                }\n",
    "\n",
    "                        "
   ]
  },
  {
   "cell_type": "code",
   "execution_count": 10,
   "metadata": {
    "dotnet_interactive": {
     "language": "pwsh"
    },
    "polyglot_notebook": {
     "kernelName": "pwsh"
    }
   },
   "outputs": [
    {
     "name": "stdout",
     "output_type": "stream",
     "text": [
      "\n",
      "\u001b[32;1mName             \u001b[0m\u001b[32;1m Manager        \u001b[0m\u001b[32;1m ManagerId\u001b[0m\n",
      "\u001b[32;1m----             \u001b[0m \u001b[32;1m-------        \u001b[0m \u001b[32;1m---------\u001b[0m\n",
      "Adele Vance       Miriam Graham   0e799665-9e0b-4226-97c3-694a49c45c63\n",
      "Alex Wilber       Miriam Graham   0e799665-9e0b-4226-97c3-694a49c45c63\n",
      "Daniel Carmack    No Manager      \n",
      "Diego Siciliani   Nestor Wilke    33d9a4ec-2426-4c08-b4f3-97459e49cd3b\n",
      "Grady Archie      Lee Gu          98d68316-30d8-43c4-ac35-4319ec3b50e9\n",
      "Henrietta Mueller Lee Gu          98d68316-30d8-43c4-ac35-4319ec3b50e9\n",
      "Isaiah Langer     Miriam Graham   0e799665-9e0b-4226-97c3-694a49c45c63\n",
      "Johanna Lorenz    Lee Gu          98d68316-30d8-43c4-ac35-4319ec3b50e9\n",
      "Joni Sherman      Nestor Wilke    33d9a4ec-2426-4c08-b4f3-97459e49cd3b\n",
      "Lee Gu            Patti Fernandez ac4e7475-bf36-4ac3-b8bd-5e0bb75a630d\n",
      "Lidia Holloway    Lee Gu          98d68316-30d8-43c4-ac35-4319ec3b50e9\n",
      "Lynne Robbins     Miriam Graham   0e799665-9e0b-4226-97c3-694a49c45c63\n",
      "Megan Bowen       Miriam Graham   0e799665-9e0b-4226-97c3-694a49c45c63\n",
      "Miriam Graham     Patti Fernandez ac4e7475-bf36-4ac3-b8bd-5e0bb75a630d\n",
      "Nestor Wilke      Patti Fernandez ac4e7475-bf36-4ac3-b8bd-5e0bb75a630d\n",
      "Patti Fernandez   No Manager      \n",
      "P A               No Manager      \n",
      "Pradeep Gupta     Nestor Wilke    33d9a4ec-2426-4c08-b4f3-97459e49cd3b\n",
      "\n"
     ]
    }
   ],
   "source": [
    "$userManagerArr"
   ]
  },
  {
   "cell_type": "code",
   "execution_count": 11,
   "metadata": {
    "dotnet_interactive": {
     "language": "pwsh"
    },
    "polyglot_notebook": {
     "kernelName": "pwsh"
    }
   },
   "outputs": [],
   "source": [
    "# export it to csv so we can restore the manager info later\n",
    "\n",
    "$userManagerArr | Export-Csv -Path './usermanager.csv' \n"
   ]
  },
  {
   "cell_type": "markdown",
   "metadata": {},
   "source": [
    "## Use Set-MgUserManagerByRef to update user's manager"
   ]
  },
  {
   "cell_type": "code",
   "execution_count": null,
   "metadata": {
    "dotnet_interactive": {
     "language": "csharp"
    },
    "polyglot_notebook": {
     "kernelName": "csharp"
    }
   },
   "outputs": [],
   "source": [
    "# use the exported EntraID user data (users.csv) above and add a column ToManager. ToManager is a dropdown list\n",
    "# which contains all the users in the organization. Save the file into users.xlsx\n"
   ]
  },
  {
   "cell_type": "code",
   "execution_count": 25,
   "metadata": {
    "dotnet_interactive": {
     "language": "pwsh"
    },
    "polyglot_notebook": {
     "kernelName": "pwsh"
    }
   },
   "outputs": [
    {
     "name": "stdout",
     "output_type": "stream",
     "text": [
      "\n",
      "\u001b[32;1mName             \u001b[0m\u001b[32;1m ObjectID                            \u001b[0m\u001b[32;1m Manager        \u001b[0m\u001b[32;1m Manager ObjectID\u001b[0m\n",
      "\u001b[32;1m----             \u001b[0m \u001b[32;1m--------                            \u001b[0m \u001b[32;1m-------        \u001b[0m \u001b[32;1m----------------\u001b[0m\n",
      "Adele Vance       e065d899-0464-4a43-b02a-206028b27982 Patti Fernandez ac4e7475-bf36-4ac3-b8bd-5e0…\n",
      "Alex Wilber       c3a3bf8e-d9d4-4b9a-b7d4-175993bbe726 Pradeep Gupta   9091d05e-e280-4b72-8612-fd8…\n",
      "Daniel Carmack    9a2e7c71-2c59-4b80-ada4-19d8534e6d99 Patti Fernandez ac4e7475-bf36-4ac3-b8bd-5e0…\n",
      "Diego Siciliani   0a02a0f1-48e1-4010-b904-c7650b34c112 Pradeep Gupta   9091d05e-e280-4b72-8612-fd8…\n",
      "Grady Archie      2ea73151-a011-47b5-9a99-8d37adc221b5 Patti Fernandez ac4e7475-bf36-4ac3-b8bd-5e0…\n",
      "Henrietta Mueller 2c758750-2644-4e13-975f-453e0dfa2263 Pradeep Gupta   9091d05e-e280-4b72-8612-fd8…\n",
      "Isaiah Langer     f243a1ce-a5e6-42e1-abe1-f49ca450d6a0 Patti Fernandez ac4e7475-bf36-4ac3-b8bd-5e0…\n",
      "Johanna Lorenz    40d46eb7-4a18-4fa0-b410-c40c92324624 Pradeep Gupta   9091d05e-e280-4b72-8612-fd8…\n",
      "Joni Sherman      96ba2e29-c833-4322-83e1-1f609aa3fe4c Patti Fernandez ac4e7475-bf36-4ac3-b8bd-5e0…\n",
      "Lee Gu            98d68316-30d8-43c4-ac35-4319ec3b50e9 Pradeep Gupta   9091d05e-e280-4b72-8612-fd8…\n",
      "Lidia Holloway    a0df3ed6-b117-4faa-aedf-ab78d0d60ac0 Patti Fernandez ac4e7475-bf36-4ac3-b8bd-5e0…\n",
      "Lynne Robbins     27baf846-be3a-4bc0-b382-40d466d82e1b Pradeep Gupta   9091d05e-e280-4b72-8612-fd8…\n",
      "Megan Bowen       c948120e-0b75-4e47-b758-c6c57bddde64 Patti Fernandez ac4e7475-bf36-4ac3-b8bd-5e0…\n",
      "Miriam Graham     0e799665-9e0b-4226-97c3-694a49c45c63 Pradeep Gupta   9091d05e-e280-4b72-8612-fd8…\n",
      "Nestor Wilke      33d9a4ec-2426-4c08-b4f3-97459e49cd3b Patti Fernandez ac4e7475-bf36-4ac3-b8bd-5e0…\n",
      "P A               b28254f0-80be-45dd-a1f4-d954e1e1a5f3 Pradeep Gupta   9091d05e-e280-4b72-8612-fd8…\n",
      "Patti Fernandez   ac4e7475-bf36-4ac3-b8bd-5e0bb75a630d Pradeep Gupta   9091d05e-e280-4b72-8612-fd8…\n",
      "Pradeep Gupta     9091d05e-e280-4b72-8612-fd8e76ae4795                 \n",
      "\n"
     ]
    },
    {
     "ename": "Error",
     "evalue": "Command failed: SubmitCode: $u| Select-Object @{Label='Name'; Expression={$_.' ...",
     "output_type": "error",
     "traceback": [
      "Command failed: SubmitCode: $u| Select-Object @{Label='Name'; Expression={$_.' ..."
     ]
    }
   ],
   "source": [
    "$u| Select-Object @{Label='Name'; Expression={$_.'Display Name'}}, @{Label='ObjectID'; Expression={$_.'Object Id'}}, @{Label='Manager'; Expression={$_.Manager}},\n",
    "                  @{Label='Manager ObjectID'; Expression={$userToIdHash[$_.Manager]}}"
   ]
  },
  {
   "cell_type": "code",
   "execution_count": 28,
   "metadata": {
    "dotnet_interactive": {
     "language": "pwsh"
    },
    "polyglot_notebook": {
     "kernelName": "pwsh"
    }
   },
   "outputs": [
    {
     "name": "stdout",
     "output_type": "stream",
     "text": [
      "\n",
      "\u001b[32;1mDisplayName      \u001b[0m\u001b[32;1m Id                                  \u001b[0m\u001b[32;1m Mail                             \u001b[0m\u001b[32;1m UserPrinci\u001b[0m\n",
      "\u001b[32;1m                 \u001b[0m\u001b[32;1m                                     \u001b[0m\u001b[32;1m                                  \u001b[0m\u001b[32;1m palName\u001b[0m\n",
      "\u001b[32;1m-----------      \u001b[0m \u001b[32;1m--                                  \u001b[0m \u001b[32;1m----                             \u001b[0m \u001b[32;1m----------\u001b[0m\n",
      "Adele Vance       e065d899-0464-4a43-b02a-206028b27982 AdeleV@61b3yr.onmicrosoft.com     AdeleV@61…\n",
      "Alex Wilber       c3a3bf8e-d9d4-4b9a-b7d4-175993bbe726 AlexW@61b3yr.onmicrosoft.com      AlexW@61b…\n",
      "Daniel Carmack    9a2e7c71-2c59-4b80-ada4-19d8534e6d99 Daniel.C@61b3yr.onmicrosoft.com   Daniel.C@…\n",
      "Diego Siciliani   0a02a0f1-48e1-4010-b904-c7650b34c112 DiegoS@61b3yr.onmicrosoft.com     DiegoS@61…\n",
      "Grady Archie      2ea73151-a011-47b5-9a99-8d37adc221b5 GradyA@61b3yr.onmicrosoft.com     GradyA@61…\n",
      "Henrietta Mueller 2c758750-2644-4e13-975f-453e0dfa2263 HenriettaM@61b3yr.onmicrosoft.com Henrietta…\n",
      "Isaiah Langer     f243a1ce-a5e6-42e1-abe1-f49ca450d6a0 IsaiahL@61b3yr.onmicrosoft.com    IsaiahL@6…\n",
      "Johanna Lorenz    40d46eb7-4a18-4fa0-b410-c40c92324624 JohannaL@61b3yr.onmicrosoft.com   JohannaL@…\n",
      "Joni Sherman      96ba2e29-c833-4322-83e1-1f609aa3fe4c JoniS@61b3yr.onmicrosoft.com      JoniS@61b…\n",
      "Lee Gu            98d68316-30d8-43c4-ac35-4319ec3b50e9 LeeG@61b3yr.onmicrosoft.com       LeeG@61b3…\n",
      "Lidia Holloway    a0df3ed6-b117-4faa-aedf-ab78d0d60ac0 LidiaH@61b3yr.onmicrosoft.com     LidiaH@61…\n",
      "Lynne Robbins     27baf846-be3a-4bc0-b382-40d466d82e1b LynneR@61b3yr.onmicrosoft.com     LynneR@61…\n",
      "Megan Bowen       c948120e-0b75-4e47-b758-c6c57bddde64 MeganB@61b3yr.onmicrosoft.com     MeganB@61…\n",
      "Miriam Graham     0e799665-9e0b-4226-97c3-694a49c45c63 MiriamG@61b3yr.onmicrosoft.com    MiriamG@6…\n",
      "Nestor Wilke      33d9a4ec-2426-4c08-b4f3-97459e49cd3b NestorW@61b3yr.onmicrosoft.com    NestorW@6…\n",
      "Patti Fernandez   ac4e7475-bf36-4ac3-b8bd-5e0bb75a630d PattiF@61b3yr.onmicrosoft.com     PattiF@61…\n",
      "P A               b28254f0-80be-45dd-a1f4-d954e1e1a5f3 plj611@61b3yr.onmicrosoft.com     plj611@61…\n",
      "Pradeep Gupta     9091d05e-e280-4b72-8612-fd8e76ae4795 PradeepG@61b3yr.onmicrosoft.com   PradeepG@…\n",
      "\n"
     ]
    }
   ],
   "source": [
    "$users"
   ]
  }
 ],
 "metadata": {
  "kernelspec": {
   "display_name": ".NET (C#)",
   "language": "C#",
   "name": ".net-csharp"
  },
  "language_info": {
   "name": "polyglot-notebook"
  },
  "polyglot_notebook": {
   "kernelInfo": {
    "defaultKernelName": "csharp",
    "items": [
     {
      "aliases": [],
      "name": "csharp"
     },
     {
      "aliases": [],
      "languageName": "pwsh",
      "name": "pwsh"
     }
    ]
   }
  }
 },
 "nbformat": 4,
 "nbformat_minor": 2
}
