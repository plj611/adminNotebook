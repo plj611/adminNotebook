{
 "cells": [
  {
   "cell_type": "markdown",
   "metadata": {},
   "source": [
    "# UpdateManagerEntraID\n",
    "\n",
    "### This notebook shows the step by step of using Powershell Graph SDK (Set-MgUserManagerByRef) to edit/ update the manager of EntraID user.\n",
    "\n",
    "### First it will show how to export the EntraID user properties from a fiction tenant. Then, it will show how to build a user to object id and a object id to user hash. It will use the hash to record the initial manager status. \n",
    "\n",
    "### After that, it will show setting up the table structure and update the user's manager."
   ]
  },
  {
   "cell_type": "markdown",
   "metadata": {},
   "source": [
    "## Export user to csv"
   ]
  },
  {
   "cell_type": "code",
   "execution_count": 1,
   "metadata": {
    "dotnet_interactive": {
     "language": "pwsh"
    },
    "polyglot_notebook": {
     "kernelName": "pwsh"
    }
   },
   "outputs": [],
   "source": [
    "# export the EntraID user into users.csv"
   ]
  },
  {
   "cell_type": "markdown",
   "metadata": {},
   "source": [
    "![export](./exportUsers.jpg)"
   ]
  },
  {
   "cell_type": "code",
   "execution_count": 2,
   "metadata": {
    "dotnet_interactive": {
     "language": "pwsh"
    },
    "polyglot_notebook": {
     "kernelName": "pwsh"
    }
   },
   "outputs": [],
   "source": [
    "# assume the filename is users.csv\n",
    "\n",
    "$u = Import-Csv './users.csv'"
   ]
  },
  {
   "cell_type": "code",
   "execution_count": 3,
   "metadata": {
    "dotnet_interactive": {
     "language": "pwsh"
    },
    "polyglot_notebook": {
     "kernelName": "pwsh"
    }
   },
   "outputs": [],
   "source": [
    "$userToIdHash = @{}\n",
    "$idToUserHash = @{}\n",
    "\n",
    "$u | ForEach-Object -process {\n",
    "   $t = @{$_.'Display name' = $_.'Object Id'}\n",
    "   $userToIdHash += $t\n",
    "\n",
    "   $t = @{$_.'Object Id' = $_.'Display name'}\n",
    "   $idToUserHash += $t\n",
    "}"
   ]
  },
  {
   "cell_type": "code",
   "execution_count": 4,
   "metadata": {
    "dotnet_interactive": {
     "language": "pwsh"
    },
    "polyglot_notebook": {
     "kernelName": "pwsh"
    }
   },
   "outputs": [
    {
     "name": "stdout",
     "output_type": "stream",
     "text": [
      "\n",
      "\u001b[32;1mName                          \u001b[0m\u001b[32;1m Value\u001b[0m\n",
      "\u001b[32;1m----                          \u001b[0m \u001b[32;1m-----\u001b[0m\n",
      "Patti Fernandez                ac4e7475-bf36-4ac3-b8bd-5e0bb75a630d\n",
      "Joni Sherman                   96ba2e29-c833-4322-83e1-1f609aa3fe4c\n",
      "Megan Bowen                    c948120e-0b75-4e47-b758-c6c57bddde64\n",
      "Alex Wilber                    c3a3bf8e-d9d4-4b9a-b7d4-175993bbe726\n",
      "Grady Archie                   2ea73151-a011-47b5-9a99-8d37adc221b5\n",
      "Diego Siciliani                0a02a0f1-48e1-4010-b904-c7650b34c112\n",
      "Pradeep Gupta                  9091d05e-e280-4b72-8612-fd8e76ae4795\n",
      "Johanna Lorenz                 40d46eb7-4a18-4fa0-b410-c40c92324624\n",
      "Lynne Robbins                  27baf846-be3a-4bc0-b382-40d466d82e1b\n",
      "Daniel Carmack                 9a2e7c71-2c59-4b80-ada4-19d8534e6d99\n",
      "P A                            b28254f0-80be-45dd-a1f4-d954e1e1a5f3\n",
      "Henrietta Mueller              2c758750-2644-4e13-975f-453e0dfa2263\n",
      "Adele Vance                    e065d899-0464-4a43-b02a-206028b27982\n",
      "Nestor Wilke                   33d9a4ec-2426-4c08-b4f3-97459e49cd3b\n",
      "Isaiah Langer                  f243a1ce-a5e6-42e1-abe1-f49ca450d6a0\n",
      "Lee Gu                         98d68316-30d8-43c4-ac35-4319ec3b50e9\n",
      "Miriam Graham                  0e799665-9e0b-4226-97c3-694a49c45c63\n",
      "Lidia Holloway                 a0df3ed6-b117-4faa-aedf-ab78d0d60ac0\n",
      "\n"
     ]
    }
   ],
   "source": [
    "$userToIdHash"
   ]
  },
  {
   "cell_type": "code",
   "execution_count": 5,
   "metadata": {
    "dotnet_interactive": {
     "language": "pwsh"
    },
    "polyglot_notebook": {
     "kernelName": "pwsh"
    }
   },
   "outputs": [
    {
     "name": "stdout",
     "output_type": "stream",
     "text": [
      "\n",
      "\u001b[32;1mName                          \u001b[0m\u001b[32;1m Value\u001b[0m\n",
      "\u001b[32;1m----                          \u001b[0m \u001b[32;1m-----\u001b[0m\n",
      "27baf846-be3a-4bc0-b382-40d46… Lynne Robbins\n",
      "0e799665-9e0b-4226-97c3-694a4… Miriam Graham\n",
      "9a2e7c71-2c59-4b80-ada4-19d85… Daniel Carmack\n",
      "40d46eb7-4a18-4fa0-b410-c40c9… Johanna Lorenz\n",
      "33d9a4ec-2426-4c08-b4f3-97459… Nestor Wilke\n",
      "9091d05e-e280-4b72-8612-fd8e7… Pradeep Gupta\n",
      "c3a3bf8e-d9d4-4b9a-b7d4-17599… Alex Wilber\n",
      "e065d899-0464-4a43-b02a-20602… Adele Vance\n",
      "a0df3ed6-b117-4faa-aedf-ab78d… Lidia Holloway\n",
      "2c758750-2644-4e13-975f-453e0… Henrietta Mueller\n",
      "f243a1ce-a5e6-42e1-abe1-f49ca… Isaiah Langer\n",
      "96ba2e29-c833-4322-83e1-1f609… Joni Sherman\n",
      "0a02a0f1-48e1-4010-b904-c7650… Diego Siciliani\n",
      "ac4e7475-bf36-4ac3-b8bd-5e0bb… Patti Fernandez\n",
      "2ea73151-a011-47b5-9a99-8d37a… Grady Archie\n",
      "b28254f0-80be-45dd-a1f4-d954e… P A\n",
      "c948120e-0b75-4e47-b758-c6c57… Megan Bowen\n",
      "98d68316-30d8-43c4-ac35-4319e… Lee Gu\n",
      "\n"
     ]
    }
   ],
   "source": [
    "$idToUserHash"
   ]
  },
  {
   "cell_type": "markdown",
   "metadata": {},
   "source": [
    "## Record the manager status of the tenant \n"
   ]
  },
  {
   "cell_type": "code",
   "execution_count": 6,
   "metadata": {
    "dotnet_interactive": {
     "language": "pwsh"
    },
    "polyglot_notebook": {
     "kernelName": "pwsh"
    }
   },
   "outputs": [
    {
     "name": "stdout",
     "output_type": "stream",
     "text": [
      "Welcome to Microsoft Graph!\r\n",
      "\r\n",
      "Connected via delegated access using 14d82eec-204b-4c2f-b7e8-296a70dab67e\r\n",
      "Readme: https://aka.ms/graph/sdk/powershell\r\n",
      "SDK Docs: https://aka.ms/graph/sdk/powershell/docs\r\n",
      "API Docs: https://aka.ms/graph/docs\r\n",
      "\r\n",
      "NOTE: You can use the -NoWelcome parameter to suppress this message.\r\n",
      "\r\n"
     ]
    }
   ],
   "source": [
    "Connect-MgGraph -Scopes \"User.ReadWrite.All\""
   ]
  },
  {
   "cell_type": "code",
   "execution_count": 7,
   "metadata": {
    "dotnet_interactive": {
     "language": "pwsh"
    },
    "polyglot_notebook": {
     "kernelName": "pwsh"
    }
   },
   "outputs": [],
   "source": [
    "$users = Get-MgUser"
   ]
  },
  {
   "cell_type": "code",
   "execution_count": 8,
   "metadata": {
    "dotnet_interactive": {
     "language": "pwsh"
    },
    "polyglot_notebook": {
     "kernelName": "pwsh"
    }
   },
   "outputs": [
    {
     "ename": "Error",
     "evalue": "Command failed: SubmitCode: $users | ForEach-Object -Begin {$userManagerArr =  ...",
     "output_type": "error",
     "traceback": [
      "Command failed: SubmitCode: $users | ForEach-Object -Begin {$userManagerArr =  ..."
     ]
    }
   ],
   "source": [
    "$users | ForEach-Object -Begin {$userManagerArr = @()} `\n",
    "                        -Process {\n",
    "                                    $userManagerId = Get-MgUserManager -UserId $_.Id -ErrorAction SilentlyContinue\n",
    "                                    if ($userManagerId) {\n",
    "                                        $userManager = $idToUserHash[$userManagerId.Id]\n",
    "                                    }\n",
    "                                    else {\n",
    "                                        $userManager = 'No Manager'\n",
    "                                    }\n",
    "                                    $userManagerArr += [PSCustomObject] @{Name = $_.DisplayName;\n",
    "                                                                            Manager = $userManager;\n",
    "                                                                            ManagerId = $userManagerId.Id}\n",
    "                                }\n",
    "\n",
    "                        "
   ]
  },
  {
   "cell_type": "code",
   "execution_count": 9,
   "metadata": {
    "dotnet_interactive": {
     "language": "pwsh"
    },
    "polyglot_notebook": {
     "kernelName": "pwsh"
    }
   },
   "outputs": [
    {
     "name": "stdout",
     "output_type": "stream",
     "text": [
      "\n",
      "\u001b[32;1mName             \u001b[0m\u001b[32;1m Manager        \u001b[0m\u001b[32;1m ManagerId\u001b[0m\n",
      "\u001b[32;1m----             \u001b[0m \u001b[32;1m-------        \u001b[0m \u001b[32;1m---------\u001b[0m\n",
      "Adele Vance       Miriam Graham   0e799665-9e0b-4226-97c3-694a49c45c63\n",
      "Alex Wilber       Miriam Graham   0e799665-9e0b-4226-97c3-694a49c45c63\n",
      "Daniel Carmack    No Manager      \n",
      "Diego Siciliani   Nestor Wilke    33d9a4ec-2426-4c08-b4f3-97459e49cd3b\n",
      "Grady Archie      Lee Gu          98d68316-30d8-43c4-ac35-4319ec3b50e9\n",
      "Henrietta Mueller Lee Gu          98d68316-30d8-43c4-ac35-4319ec3b50e9\n",
      "Isaiah Langer     Miriam Graham   0e799665-9e0b-4226-97c3-694a49c45c63\n",
      "Johanna Lorenz    Lee Gu          98d68316-30d8-43c4-ac35-4319ec3b50e9\n",
      "Joni Sherman      Nestor Wilke    33d9a4ec-2426-4c08-b4f3-97459e49cd3b\n",
      "Lee Gu            Patti Fernandez ac4e7475-bf36-4ac3-b8bd-5e0bb75a630d\n",
      "Lidia Holloway    Lee Gu          98d68316-30d8-43c4-ac35-4319ec3b50e9\n",
      "Lynne Robbins     Miriam Graham   0e799665-9e0b-4226-97c3-694a49c45c63\n",
      "Megan Bowen       Miriam Graham   0e799665-9e0b-4226-97c3-694a49c45c63\n",
      "Miriam Graham     Patti Fernandez ac4e7475-bf36-4ac3-b8bd-5e0bb75a630d\n",
      "Nestor Wilke      Patti Fernandez ac4e7475-bf36-4ac3-b8bd-5e0bb75a630d\n",
      "Patti Fernandez   No Manager      \n",
      "P A               No Manager      \n",
      "Pradeep Gupta     Nestor Wilke    33d9a4ec-2426-4c08-b4f3-97459e49cd3b\n",
      "\n"
     ]
    }
   ],
   "source": [
    "$userManagerArr"
   ]
  },
  {
   "cell_type": "code",
   "execution_count": 10,
   "metadata": {
    "dotnet_interactive": {
     "language": "pwsh"
    },
    "polyglot_notebook": {
     "kernelName": "pwsh"
    }
   },
   "outputs": [],
   "source": [
    "# export it to csv so we can restore the manager info later\n",
    "\n",
    "$userManagerArr | Export-Csv -Path './usermanager.csv' \n"
   ]
  },
  {
   "cell_type": "markdown",
   "metadata": {},
   "source": [
    "## Setup the table to prepare to update the user's manager"
   ]
  },
  {
   "cell_type": "code",
   "execution_count": 11,
   "metadata": {
    "dotnet_interactive": {
     "language": "pwsh"
    },
    "polyglot_notebook": {
     "kernelName": "pwsh"
    }
   },
   "outputs": [],
   "source": [
    "# use the exported EntraID user data (users.csv) above and add a column ToManager. ToManager is a \n",
    "# dropdown list which contains all the users in the organization then assign new manager to the user. \n",
    "# After that, save the file into users.xlsx"
   ]
  },
  {
   "cell_type": "markdown",
   "metadata": {},
   "source": [
    "![toManager](./toManager.jpg)"
   ]
  },
  {
   "cell_type": "code",
   "execution_count": 12,
   "metadata": {
    "dotnet_interactive": {
     "language": "pwsh"
    },
    "polyglot_notebook": {
     "kernelName": "pwsh"
    }
   },
   "outputs": [],
   "source": [
    "# we need a cmdlet from module ImportExcel, install the module by\n",
    "# Install-Module -Name ImportExcel"
   ]
  },
  {
   "cell_type": "code",
   "execution_count": 13,
   "metadata": {
    "dotnet_interactive": {
     "language": "pwsh"
    },
    "polyglot_notebook": {
     "kernelName": "pwsh"
    }
   },
   "outputs": [],
   "source": [
    "$u = Import-Excel -Path \"./users.xlsx\""
   ]
  },
  {
   "cell_type": "code",
   "execution_count": 14,
   "metadata": {
    "dotnet_interactive": {
     "language": "pwsh"
    },
    "polyglot_notebook": {
     "kernelName": "pwsh"
    }
   },
   "outputs": [
    {
     "name": "stdout",
     "output_type": "stream",
     "text": [
      "\n",
      "\u001b[32;1mName             \u001b[0m\u001b[32;1m ID                                  \u001b[0m\u001b[32;1m ToManager      \u001b[0m\u001b[32;1m ToManager ID\u001b[0m\n",
      "\u001b[32;1m----             \u001b[0m \u001b[32;1m--                                  \u001b[0m \u001b[32;1m---------      \u001b[0m \u001b[32;1m------------\u001b[0m\n",
      "Adele Vance       e065d899-0464-4a43-b02a-206028b27982 Patti Fernandez ac4e7475-bf36-4ac3-b8bd-5e0…\n",
      "Alex Wilber       c3a3bf8e-d9d4-4b9a-b7d4-175993bbe726 Pradeep Gupta   9091d05e-e280-4b72-8612-fd8…\n",
      "Daniel Carmack    9a2e7c71-2c59-4b80-ada4-19d8534e6d99 Patti Fernandez ac4e7475-bf36-4ac3-b8bd-5e0…\n",
      "Diego Siciliani   0a02a0f1-48e1-4010-b904-c7650b34c112 Pradeep Gupta   9091d05e-e280-4b72-8612-fd8…\n",
      "Grady Archie      2ea73151-a011-47b5-9a99-8d37adc221b5 Patti Fernandez ac4e7475-bf36-4ac3-b8bd-5e0…\n",
      "Henrietta Mueller 2c758750-2644-4e13-975f-453e0dfa2263 Pradeep Gupta   9091d05e-e280-4b72-8612-fd8…\n",
      "Isaiah Langer     f243a1ce-a5e6-42e1-abe1-f49ca450d6a0 Patti Fernandez ac4e7475-bf36-4ac3-b8bd-5e0…\n",
      "Johanna Lorenz    40d46eb7-4a18-4fa0-b410-c40c92324624 Pradeep Gupta   9091d05e-e280-4b72-8612-fd8…\n",
      "Joni Sherman      96ba2e29-c833-4322-83e1-1f609aa3fe4c Patti Fernandez ac4e7475-bf36-4ac3-b8bd-5e0…\n",
      "Lee Gu            98d68316-30d8-43c4-ac35-4319ec3b50e9 Pradeep Gupta   9091d05e-e280-4b72-8612-fd8…\n",
      "Lidia Holloway    a0df3ed6-b117-4faa-aedf-ab78d0d60ac0 Patti Fernandez ac4e7475-bf36-4ac3-b8bd-5e0…\n",
      "Lynne Robbins     27baf846-be3a-4bc0-b382-40d466d82e1b Pradeep Gupta   9091d05e-e280-4b72-8612-fd8…\n",
      "Megan Bowen       c948120e-0b75-4e47-b758-c6c57bddde64 Patti Fernandez ac4e7475-bf36-4ac3-b8bd-5e0…\n",
      "Miriam Graham     0e799665-9e0b-4226-97c3-694a49c45c63 Pradeep Gupta   9091d05e-e280-4b72-8612-fd8…\n",
      "Nestor Wilke      33d9a4ec-2426-4c08-b4f3-97459e49cd3b Patti Fernandez ac4e7475-bf36-4ac3-b8bd-5e0…\n",
      "P A               b28254f0-80be-45dd-a1f4-d954e1e1a5f3 Pradeep Gupta   9091d05e-e280-4b72-8612-fd8…\n",
      "Patti Fernandez   ac4e7475-bf36-4ac3-b8bd-5e0bb75a630d Pradeep Gupta   9091d05e-e280-4b72-8612-fd8…\n",
      "Pradeep Gupta     9091d05e-e280-4b72-8612-fd8e76ae4795                 \n",
      "\n"
     ]
    },
    {
     "ename": "Error",
     "evalue": "Command failed: SubmitCode: # display the user and toManager table  ...",
     "output_type": "error",
     "traceback": [
      "Command failed: SubmitCode: # display the user and toManager table  ..."
     ]
    }
   ],
   "source": [
    "# display the user and toManager table \n",
    "\n",
    "$u| Select-Object @{Label='Name'; Expression={$_.'Display Name'}}, \n",
    "                    @{Label='ID'; Expression={$_.'Object Id'}}, \n",
    "                    @{Label='ToManager'; Expression={$_.ToManager}},\n",
    "                    @{Label='ToManager ID'; Expression={$userToIdHash[$_.ToManager]}}"
   ]
  },
  {
   "cell_type": "markdown",
   "metadata": {},
   "source": [
    "## Use Set-MgUserManagerByRef to update user's manager"
   ]
  },
  {
   "cell_type": "code",
   "execution_count": 15,
   "metadata": {
    "dotnet_interactive": {
     "language": "pwsh"
    },
    "polyglot_notebook": {
     "kernelName": "pwsh"
    }
   },
   "outputs": [
    {
     "ename": "Error",
     "evalue": "Command failed: SubmitCode: $newManagerTable = $u | Select-Object @{Label='Nam ...",
     "output_type": "error",
     "traceback": [
      "Command failed: SubmitCode: $newManagerTable = $u | Select-Object @{Label='Nam ..."
     ]
    }
   ],
   "source": [
    "$newManagerTable = $u | Select-Object @{Label='Name'; Expression={$_.'Display Name'}}, \n",
    "                        @{Label='ID'; Expression={$_.'Object Id'}}, \n",
    "                        @{Label='ToManager'; Expression={$_.ToManager}},\n",
    "                        @{Label='ToManager ID'; Expression={$userToIdHash[$_.ToManager]}}"
   ]
  },
  {
   "cell_type": "code",
   "execution_count": 16,
   "metadata": {
    "dotnet_interactive": {
     "language": "pwsh"
    },
    "polyglot_notebook": {
     "kernelName": "pwsh"
    }
   },
   "outputs": [
    {
     "name": "stdout",
     "output_type": "stream",
     "text": [
      "Updating user Adele Vance manager to Patti Fernandez, objectId: ac4e7475-bf36-4ac3-b8bd-5e0bb75a630d\n",
      "https://graph.microsoft.com/v1.0/users/ac4e7475-bf36-4ac3-b8bd-5e0bb75a630d\n",
      "Updating user Alex Wilber manager to Pradeep Gupta, objectId: 9091d05e-e280-4b72-8612-fd8e76ae4795\n",
      "https://graph.microsoft.com/v1.0/users/9091d05e-e280-4b72-8612-fd8e76ae4795\n",
      "Updating user Daniel Carmack manager to Patti Fernandez, objectId: ac4e7475-bf36-4ac3-b8bd-5e0bb75a630d\n",
      "https://graph.microsoft.com/v1.0/users/ac4e7475-bf36-4ac3-b8bd-5e0bb75a630d\n",
      "Updating user Diego Siciliani manager to Pradeep Gupta, objectId: 9091d05e-e280-4b72-8612-fd8e76ae4795\n",
      "https://graph.microsoft.com/v1.0/users/9091d05e-e280-4b72-8612-fd8e76ae4795\n",
      "Updating user Grady Archie manager to Patti Fernandez, objectId: ac4e7475-bf36-4ac3-b8bd-5e0bb75a630d\n",
      "https://graph.microsoft.com/v1.0/users/ac4e7475-bf36-4ac3-b8bd-5e0bb75a630d\n",
      "Updating user Henrietta Mueller manager to Pradeep Gupta, objectId: 9091d05e-e280-4b72-8612-fd8e76ae4795\n",
      "https://graph.microsoft.com/v1.0/users/9091d05e-e280-4b72-8612-fd8e76ae4795\n",
      "Updating user Isaiah Langer manager to Patti Fernandez, objectId: ac4e7475-bf36-4ac3-b8bd-5e0bb75a630d\n",
      "https://graph.microsoft.com/v1.0/users/ac4e7475-bf36-4ac3-b8bd-5e0bb75a630d\n",
      "Updating user Johanna Lorenz manager to Pradeep Gupta, objectId: 9091d05e-e280-4b72-8612-fd8e76ae4795\n",
      "https://graph.microsoft.com/v1.0/users/9091d05e-e280-4b72-8612-fd8e76ae4795\n",
      "Updating user Joni Sherman manager to Patti Fernandez, objectId: ac4e7475-bf36-4ac3-b8bd-5e0bb75a630d\n",
      "https://graph.microsoft.com/v1.0/users/ac4e7475-bf36-4ac3-b8bd-5e0bb75a630d\n",
      "Updating user Lee Gu manager to Pradeep Gupta, objectId: 9091d05e-e280-4b72-8612-fd8e76ae4795\n",
      "https://graph.microsoft.com/v1.0/users/9091d05e-e280-4b72-8612-fd8e76ae4795\n",
      "Updating user Lidia Holloway manager to Patti Fernandez, objectId: ac4e7475-bf36-4ac3-b8bd-5e0bb75a630d\n",
      "https://graph.microsoft.com/v1.0/users/ac4e7475-bf36-4ac3-b8bd-5e0bb75a630d\n",
      "Updating user Lynne Robbins manager to Pradeep Gupta, objectId: 9091d05e-e280-4b72-8612-fd8e76ae4795\n",
      "https://graph.microsoft.com/v1.0/users/9091d05e-e280-4b72-8612-fd8e76ae4795\n",
      "Updating user Megan Bowen manager to Patti Fernandez, objectId: ac4e7475-bf36-4ac3-b8bd-5e0bb75a630d\n",
      "https://graph.microsoft.com/v1.0/users/ac4e7475-bf36-4ac3-b8bd-5e0bb75a630d\n",
      "Updating user Miriam Graham manager to Pradeep Gupta, objectId: 9091d05e-e280-4b72-8612-fd8e76ae4795\n",
      "https://graph.microsoft.com/v1.0/users/9091d05e-e280-4b72-8612-fd8e76ae4795\n",
      "Updating user Nestor Wilke manager to Patti Fernandez, objectId: ac4e7475-bf36-4ac3-b8bd-5e0bb75a630d\n",
      "https://graph.microsoft.com/v1.0/users/ac4e7475-bf36-4ac3-b8bd-5e0bb75a630d\n",
      "Updating user P A manager to Pradeep Gupta, objectId: 9091d05e-e280-4b72-8612-fd8e76ae4795\n",
      "https://graph.microsoft.com/v1.0/users/9091d05e-e280-4b72-8612-fd8e76ae4795\n",
      "Updating user Patti Fernandez manager to Pradeep Gupta, objectId: 9091d05e-e280-4b72-8612-fd8e76ae4795\n",
      "https://graph.microsoft.com/v1.0/users/9091d05e-e280-4b72-8612-fd8e76ae4795\n",
      "Removing user Pradeep Gupta's manager\n"
     ]
    }
   ],
   "source": [
    "$newManagerTable | ForEach-Object {\n",
    "    if ($_.'ToManager ID') {\n",
    "        $odataId = \"https://graph.microsoft.com/v1.0/users/{0}\" -f $_.\"ToManager ID\"\n",
    "        \"Updating user {0} manager to {1}, objectId: {2}\" -f $_.Name, $_.ToManager, $_.'ToManager ID'\n",
    "        $odataId\n",
    "\n",
    "        # update user's manager\n",
    "        $NewManager = @{\n",
    "            \"@odata.id\" = $odataId\n",
    "        }\n",
    "        Set-MgUserManagerByRef -UserId $_.ID -BodyParameter $NewManager\n",
    "    }\n",
    "    else {\n",
    "        \"Removing user {0}'s manager\" -f $_.Name\n",
    "        Remove-MgUserManagerByRef -UserId $_.ID\n",
    "    }\n",
    "}"
   ]
  },
  {
   "cell_type": "markdown",
   "metadata": {},
   "source": [
    "## Check user's manager after the update"
   ]
  },
  {
   "cell_type": "code",
   "execution_count": 17,
   "metadata": {
    "dotnet_interactive": {
     "language": "pwsh"
    },
    "polyglot_notebook": {
     "kernelName": "pwsh"
    }
   },
   "outputs": [],
   "source": [
    "$users = Get-MgUser"
   ]
  },
  {
   "cell_type": "code",
   "execution_count": 18,
   "metadata": {
    "dotnet_interactive": {
     "language": "pwsh"
    },
    "polyglot_notebook": {
     "kernelName": "pwsh"
    }
   },
   "outputs": [
    {
     "name": "stdout",
     "output_type": "stream",
     "text": [
      "Adele Vance's manager is Patti Fernandez\n",
      "Alex Wilber's manager is Pradeep Gupta\n",
      "Daniel Carmack's manager is Patti Fernandez\n",
      "Diego Siciliani's manager is Pradeep Gupta\n",
      "Grady Archie's manager is Patti Fernandez\n",
      "Henrietta Mueller's manager is Pradeep Gupta\n",
      "Isaiah Langer's manager is Patti Fernandez\n",
      "Johanna Lorenz's manager is Pradeep Gupta\n",
      "Joni Sherman's manager is Patti Fernandez\n",
      "Lee Gu's manager is Pradeep Gupta\n",
      "Lidia Holloway's manager is Patti Fernandez\n",
      "Lynne Robbins's manager is Pradeep Gupta\n",
      "Megan Bowen's manager is Patti Fernandez\n",
      "Miriam Graham's manager is Pradeep Gupta\n",
      "Nestor Wilke's manager is Patti Fernandez\n",
      "Patti Fernandez's manager is Pradeep Gupta\n",
      "P A's manager is Pradeep Gupta\n",
      "Pradeep Gupta has no manager\n"
     ]
    },
    {
     "ename": "Error",
     "evalue": "Command failed: SubmitCode: $users | ForEach-Object { ...",
     "output_type": "error",
     "traceback": [
      "Command failed: SubmitCode: $users | ForEach-Object { ..."
     ]
    }
   ],
   "source": [
    "$users | ForEach-Object {\n",
    "                $managerId = Get-MgUserManager -UserId $_.Id -ErrorAction SilentlyContinue\n",
    "                if ($managerId) {\n",
    "                    \"{0}'s manager is {1}\" -f $_.DisplayName, $idToUserHash[$managerId.Id]\n",
    "                }\n",
    "                else {\n",
    "                    \"{0} has no manager\" -f $_.DisplayName\n",
    "                }\n",
    "\n",
    "        }"
   ]
  }
 ],
 "metadata": {
  "kernelspec": {
   "display_name": ".NET (C#)",
   "language": "C#",
   "name": ".net-csharp"
  },
  "language_info": {
   "name": "polyglot-notebook"
  },
  "polyglot_notebook": {
   "kernelInfo": {
    "defaultKernelName": "csharp",
    "items": [
     {
      "aliases": [],
      "name": "csharp"
     },
     {
      "aliases": [],
      "languageName": "pwsh",
      "name": "pwsh"
     }
    ]
   }
  }
 },
 "nbformat": 4,
 "nbformat_minor": 2
}
