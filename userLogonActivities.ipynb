{
 "cells": [
  {
   "cell_type": "code",
   "execution_count": 75,
   "metadata": {
    "dotnet_interactive": {
     "language": "pwsh"
    },
    "polyglot_notebook": {
     "kernelName": "pwsh"
    }
   },
   "outputs": [
    {
     "name": "stdout",
     "output_type": "stream",
     "text": [
      "Welcome to Microsoft Graph!\r\n",
      "\r\n",
      "Connected via delegated access using 14d82eec-204b-4c2f-b7e8-296a70dab67e\r\n",
      "Readme: https://aka.ms/graph/sdk/powershell\r\n",
      "SDK Docs: https://aka.ms/graph/sdk/powershell/docs\r\n",
      "API Docs: https://aka.ms/graph/docs\r\n",
      "\r\n",
      "NOTE: You can use the -NoWelcome parameter to suppress this message.\r\n",
      "\r\n"
     ]
    },
    {
     "ename": "Error",
     "evalue": "Command failed: SubmitCode: #Connect-MgGraph -Scopes \"User.Read.All\",\"AuditLog ...",
     "output_type": "error",
     "traceback": [
      "Command failed: SubmitCode: #Connect-MgGraph -Scopes \"User.Read.All\",\"AuditLog ..."
     ]
    }
   ],
   "source": [
    "Connect-MgGraph -Scopes \"User.Read.All\""
   ]
  },
  {
   "cell_type": "code",
   "execution_count": 144,
   "metadata": {
    "dotnet_interactive": {
     "language": "pwsh"
    },
    "polyglot_notebook": {
     "kernelName": "pwsh"
    }
   },
   "outputs": [],
   "source": [
    "$result = get-mguser | Select-Object -Property Id | ForEach-Object -Process {get-mguser -userid $_.Id -Property displayname, signInActivity}"
   ]
  },
  {
   "cell_type": "code",
   "execution_count": 176,
   "metadata": {
    "dotnet_interactive": {
     "language": "pwsh"
    },
    "polyglot_notebook": {
     "kernelName": "pwsh"
    }
   },
   "outputs": [
    {
     "name": "stdout",
     "output_type": "stream",
     "text": [
      "\n",
      "\u001b[32;1mDisplayName      \u001b[0m\u001b[32;1m LastSignInDateTime   \u001b[0m\u001b[32;1m LastNonInteractiveSignInDateTime\u001b[0m\n",
      "\u001b[32;1m-----------      \u001b[0m \u001b[32;1m------------------   \u001b[0m \u001b[32;1m--------------------------------\u001b[0m\n",
      "Adele Vance       12/19/2023 9:49:16 PM \n",
      "Alex Wilber       12/19/2023 9:49:19 PM \n",
      "Diego Siciliani   12/19/2023 9:49:22 PM \n",
      "Grady Archie      12/19/2023 9:49:24 PM \n",
      "Henrietta Mueller 12/19/2023 9:49:26 PM \n",
      "Isaiah Langer     12/19/2023 9:49:29 PM \n",
      "Johanna Lorenz    12/19/2023 9:49:33 PM \n",
      "Joni Sherman      12/19/2023 9:49:36 PM \n",
      "Lee Gu            1/28/2024 7:16:23 AM  1/29/2024 1:57:02 AM\n",
      "Lidia Holloway    12/19/2023 9:49:41 PM \n",
      "Lynne Robbins     12/19/2023 9:49:44 PM \n",
      "Megan Bowen       12/19/2023 9:49:46 PM \n",
      "Miriam Graham     12/19/2023 9:49:08 PM \n",
      "Nestor Wilke      12/19/2023 9:49:12 PM \n",
      "Patti Fernandez   12/19/2023 9:48:51 PM \n",
      "P A               1/28/2024 7:33:21 AM  1/28/2024 7:33:22 AM\n",
      "Pradeep Gupta     12/19/2023 9:49:49 PM \n",
      "\n"
     ]
    }
   ],
   "source": [
    "$result | Select-Object -Property DisplayName, @{ name = 'LastSignInDateTime'; expression = {$_.SignInActivity.LastSignInDateTime} }, \n",
    "                                                @{name = 'LastNonInteractiveSignInDateTime'; Expression = {$_.SignInActivity.LastNonInteractiveSignInDateTime}}"
   ]
  },
  {
   "cell_type": "code",
   "execution_count": 174,
   "metadata": {
    "dotnet_interactive": {
     "language": "pwsh"
    },
    "polyglot_notebook": {
     "kernelName": "pwsh"
    }
   },
   "outputs": [
    {
     "name": "stdout",
     "output_type": "stream",
     "text": [
      "\n",
      "\u001b[32;1mLastNonInteractiveSignInDateTime\u001b[0m\u001b[32;1m LastNonInteractiveSignInRequestId   \u001b[0m\u001b[32;1m LastSignInDateTime  \u001b[0m\u001b[32;1m LastSign\u001b[0m\n",
      "\u001b[32;1m                                \u001b[0m\u001b[32;1m                                     \u001b[0m\u001b[32;1m                     \u001b[0m\u001b[32;1m InReques\u001b[0m\n",
      "\u001b[32;1m                                \u001b[0m\u001b[32;1m                                     \u001b[0m\u001b[32;1m                     \u001b[0m\u001b[32;1m tId\u001b[0m\n",
      "\u001b[32;1m--------------------------------\u001b[0m \u001b[32;1m---------------------------------   \u001b[0m \u001b[32;1m------------------  \u001b[0m \u001b[32;1m--------\u001b[0m\n",
      "1/28/2024 7:33:22 AM             52183063-d70f-4b4a-83d0-4510bca02100 1/28/2024 7:33:21 AM 955cb29…\n",
      "\n"
     ]
    }
   ],
   "source": [
    "Disconnect-Graph"
   ]
  },
  {
   "cell_type": "code",
   "execution_count": null,
   "metadata": {
    "dotnet_interactive": {
     "language": "pwsh"
    },
    "polyglot_notebook": {
     "kernelName": "pwsh"
    }
   },
   "outputs": [],
   "source": [
    " "
   ]
  }
 ],
 "metadata": {
  "kernelspec": {
   "display_name": ".NET (PowerShell)",
   "language": "PowerShell",
   "name": ".net-pwsh"
  },
  "language_info": {
   "name": "polyglot-notebook"
  },
  "polyglot_notebook": {
   "kernelInfo": {
    "defaultKernelName": "pwsh",
    "items": [
     {
      "aliases": [],
      "languageName": "pwsh",
      "name": "pwsh"
     }
    ]
   }
  }
 },
 "nbformat": 4,
 "nbformat_minor": 2
}
