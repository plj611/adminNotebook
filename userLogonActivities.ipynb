{
 "cells": [
  {
   "cell_type": "markdown",
   "metadata": {},
   "source": [
    "### The use of Microsoft Graph to obtain the sign in activities of the Entra ID users\n",
    "\n",
    "This notebook will show one common incorrect method to obtain signin activities and one correct way to obtain them"
   ]
  },
  {
   "cell_type": "markdown",
   "metadata": {},
   "source": [
    "Connect to Microsoft Graph with required permission scope"
   ]
  },
  {
   "cell_type": "code",
   "execution_count": 1,
   "metadata": {
    "dotnet_interactive": {
     "language": "pwsh"
    },
    "polyglot_notebook": {
     "kernelName": "pwsh"
    }
   },
   "outputs": [
    {
     "name": "stdout",
     "output_type": "stream",
     "text": [
      "To sign in, use a web browser to open the page https://microsoft.com/devicelogin and enter the code S68B7FPA6 to authenticate.\n",
      "Welcome to Microsoft Graph!\n",
      "\n",
      "Connected via delegated access using 14d82eec-204b-4c2f-b7e8-296a70dab67e\n",
      "Readme: https://aka.ms/graph/sdk/powershell\n",
      "SDK Docs: https://aka.ms/graph/sdk/powershell/docs\n",
      "API Docs: https://aka.ms/graph/docs\n",
      "\n",
      "NOTE: You can use the -NoWelcome parameter to suppress this message.\n",
      "\n"
     ]
    }
   ],
   "source": [
    "Connect-MgGraph -Scopes \"User.Read.All\""
   ]
  },
  {
   "cell_type": "markdown",
   "metadata": {},
   "source": [
    "Method 1 (This is an incorrect way, it is common to go down this path)"
   ]
  },
  {
   "cell_type": "code",
   "execution_count": 2,
   "metadata": {
    "dotnet_interactive": {
     "language": "pwsh"
    },
    "polyglot_notebook": {
     "kernelName": "pwsh"
    }
   },
   "outputs": [],
   "source": [
    "$result = Get-MgUser"
   ]
  },
  {
   "cell_type": "code",
   "execution_count": 5,
   "metadata": {
    "dotnet_interactive": {
     "language": "pwsh"
    },
    "polyglot_notebook": {
     "kernelName": "pwsh"
    }
   },
   "outputs": [
    {
     "name": "stdout",
     "output_type": "stream",
     "text": [
      "\n",
      "   TypeName: Microsoft.Graph.PowerShell.Models.MicrosoftGraphUser\n",
      "\n",
      "\u001b[32;1mName                                 \u001b[0m\u001b[32;1m MemberType           \u001b[0m\u001b[32;1m Definition\u001b[0m\n",
      "\u001b[32;1m----                                 \u001b[0m \u001b[32;1m----------           \u001b[0m \u001b[32;1m----------\u001b[0m\n",
      "Add                                   Method                void Add(string key, System.Object val…\n",
      "Clear                                 Method                void Clear(), void IAssociativeArray[O…\n",
      "ContainsKey                           Method                bool ContainsKey(string key), bool IAs…\n",
      "CopyFrom                              Method                void CopyFrom(System.Collections.IDict…\n",
      "Equals                                Method                bool Equals(System.Object obj)\n",
      "GetHashCode                           Method                int GetHashCode()\n",
      "GetType                               Method                type GetType()\n",
      "Remove                                Method                bool Remove(string key), bool IAssocia…\n",
      "ToJson                                Method                Microsoft.Graph.PowerShell.Runtime.Jso…\n",
      "ToJsonString                          Method                string ToJsonString()\n",
      "ToString                              Method                string ToString()\n",
      "TryGetValue                           Method                bool TryGetValue(string key, [ref] Sys…\n",
      "Validate                              Method                System.Threading.Tasks.Task Validate(M…\n",
      "EntityItem                            ParameterizedProperty System.Object EntityItem(string index)…\n",
      "Item                                  ParameterizedProperty System.Object IAssociativeArray[Object…\n",
      "AboutMe                               Property              string AboutMe {get;set;}\n",
      "AccountEnabled                        Property              System.Nullable[bool] AccountEnabled {…\n",
      "Activities                            Property              Microsoft.Graph.PowerShell.Models.IMic…\n",
      "AdditionalProperties                  Property              System.Collections.Generic.IDictionary…\n",
      "AgeGroup                              Property              string AgeGroup {get;set;}\n",
      "AgreementAcceptances                  Property              Microsoft.Graph.PowerShell.Models.IMic…\n",
      "AppRoleAssignments                    Property              Microsoft.Graph.PowerShell.Models.IMic…\n",
      "AssignedLicenses                      Property              Microsoft.Graph.PowerShell.Models.IMic…\n",
      "AssignedPlans                         Property              Microsoft.Graph.PowerShell.Models.IMic…\n",
      "Authentication                        Property              Microsoft.Graph.PowerShell.Models.IMic…\n",
      "AuthorizationInfo                     Property              Microsoft.Graph.PowerShell.Models.IMic…\n",
      "Birthday                              Property              System.Nullable[datetime] Birthday {ge…\n",
      "BusinessPhones                        Property              string[] BusinessPhones {get;set;}\n",
      "Calendar                              Property              Microsoft.Graph.PowerShell.Models.IMic…\n",
      "CalendarGroups                        Property              Microsoft.Graph.PowerShell.Models.IMic…\n",
      "Calendars                             Property              Microsoft.Graph.PowerShell.Models.IMic…\n",
      "CalendarView                          Property              Microsoft.Graph.PowerShell.Models.IMic…\n",
      "Chats                                 Property              Microsoft.Graph.PowerShell.Models.IMic…\n",
      "City                                  Property              string City {get;set;}\n",
      "CompanyName                           Property              string CompanyName {get;set;}\n",
      "ConsentProvidedForMinor               Property              string ConsentProvidedForMinor {get;se…\n",
      "ContactFolders                        Property              Microsoft.Graph.PowerShell.Models.IMic…\n",
      "Contacts                              Property              Microsoft.Graph.PowerShell.Models.IMic…\n",
      "Country                               Property              string Country {get;set;}\n",
      "CreatedDateTime                       Property              System.Nullable[datetime] CreatedDateT…\n",
      "CreatedObjects                        Property              Microsoft.Graph.PowerShell.Models.IMic…\n",
      "CreationType                          Property              string CreationType {get;set;}\n",
      "CustomSecurityAttributes              Property              Microsoft.Graph.PowerShell.Models.IMic…\n",
      "DeletedDateTime                       Property              System.Nullable[datetime] DeletedDateT…\n",
      "Department                            Property              string Department {get;set;}\n",
      "DeviceEnrollmentLimit                 Property              System.Nullable[int] DeviceEnrollmentL…\n",
      "DeviceManagementTroubleshootingEvents Property              Microsoft.Graph.PowerShell.Models.IMic…\n",
      "DirectReports                         Property              Microsoft.Graph.PowerShell.Models.IMic…\n",
      "DisplayName                           Property              string DisplayName {get;set;}\n",
      "Drive                                 Property              Microsoft.Graph.PowerShell.Models.IMic…\n",
      "Drives                                Property              Microsoft.Graph.PowerShell.Models.IMic…\n",
      "EmployeeExperience                    Property              Microsoft.Graph.PowerShell.Models.IMic…\n",
      "EmployeeHireDate                      Property              System.Nullable[datetime] EmployeeHire…\n",
      "EmployeeId                            Property              string EmployeeId {get;set;}\n",
      "EmployeeLeaveDateTime                 Property              System.Nullable[datetime] EmployeeLeav…\n",
      "EmployeeOrgData                       Property              Microsoft.Graph.PowerShell.Models.IMic…\n",
      "EmployeeType                          Property              string EmployeeType {get;set;}\n",
      "Events                                Property              Microsoft.Graph.PowerShell.Models.IMic…\n",
      "Extensions                            Property              Microsoft.Graph.PowerShell.Models.IMic…\n",
      "ExternalUserState                     Property              string ExternalUserState {get;set;}\n",
      "ExternalUserStateChangeDateTime       Property              System.Nullable[datetime] ExternalUser…\n",
      "FaxNumber                             Property              string FaxNumber {get;set;}\n",
      "FollowedSites                         Property              Microsoft.Graph.PowerShell.Models.IMic…\n",
      "GivenName                             Property              string GivenName {get;set;}\n",
      "HireDate                              Property              System.Nullable[datetime] HireDate {ge…\n",
      "Id                                    Property              string Id {get;set;}\n",
      "Identities                            Property              Microsoft.Graph.PowerShell.Models.IMic…\n",
      "ImAddresses                           Property              string[] ImAddresses {get;set;}\n",
      "InferenceClassification               Property              Microsoft.Graph.PowerShell.Models.IMic…\n",
      "Insights                              Property              Microsoft.Graph.PowerShell.Models.IMic…\n",
      "Interests                             Property              string[] Interests {get;set;}\n",
      "IsResourceAccount                     Property              System.Nullable[bool] IsResourceAccoun…\n",
      "JobTitle                              Property              string JobTitle {get;set;}\n",
      "JoinedTeams                           Property              Microsoft.Graph.PowerShell.Models.IMic…\n",
      "LastPasswordChangeDateTime            Property              System.Nullable[datetime] LastPassword…\n",
      "LegalAgeGroupClassification           Property              string LegalAgeGroupClassification {ge…\n",
      "LicenseAssignmentStates               Property              Microsoft.Graph.PowerShell.Models.IMic…\n",
      "LicenseDetails                        Property              Microsoft.Graph.PowerShell.Models.IMic…\n",
      "Mail                                  Property              string Mail {get;set;}\n",
      "MailboxSettings                       Property              Microsoft.Graph.PowerShell.Models.IMic…\n",
      "MailFolders                           Property              Microsoft.Graph.PowerShell.Models.IMic…\n",
      "MailNickname                          Property              string MailNickname {get;set;}\n",
      "ManagedAppRegistrations               Property              Microsoft.Graph.PowerShell.Models.IMic…\n",
      "ManagedDevices                        Property              Microsoft.Graph.PowerShell.Models.IMic…\n",
      "Manager                               Property              Microsoft.Graph.PowerShell.Models.IMic…\n",
      "MemberOf                              Property              Microsoft.Graph.PowerShell.Models.IMic…\n",
      "Messages                              Property              Microsoft.Graph.PowerShell.Models.IMic…\n",
      "MobilePhone                           Property              string MobilePhone {get;set;}\n",
      "MySite                                Property              string MySite {get;set;}\n",
      "Oauth2PermissionGrants                Property              Microsoft.Graph.PowerShell.Models.IMic…\n",
      "OfficeLocation                        Property              string OfficeLocation {get;set;}\n",
      "Onenote                               Property              Microsoft.Graph.PowerShell.Models.IMic…\n",
      "OnlineMeetings                        Property              Microsoft.Graph.PowerShell.Models.IMic…\n",
      "OnPremisesDistinguishedName           Property              string OnPremisesDistinguishedName {ge…\n",
      "OnPremisesDomainName                  Property              string OnPremisesDomainName {get;set;}\n",
      "OnPremisesExtensionAttributes         Property              Microsoft.Graph.PowerShell.Models.IMic…\n",
      "OnPremisesImmutableId                 Property              string OnPremisesImmutableId {get;set;}\n",
      "OnPremisesLastSyncDateTime            Property              System.Nullable[datetime] OnPremisesLa…\n",
      "OnPremisesProvisioningErrors          Property              Microsoft.Graph.PowerShell.Models.IMic…\n",
      "OnPremisesSamAccountName              Property              string OnPremisesSamAccountName {get;s…\n",
      "OnPremisesSecurityIdentifier          Property              string OnPremisesSecurityIdentifier {g…\n",
      "OnPremisesSyncEnabled                 Property              System.Nullable[bool] OnPremisesSyncEn…\n",
      "OnPremisesUserPrincipalName           Property              string OnPremisesUserPrincipalName {ge…\n",
      "OtherMails                            Property              string[] OtherMails {get;set;}\n",
      "Outlook                               Property              Microsoft.Graph.PowerShell.Models.IMic…\n",
      "OwnedDevices                          Property              Microsoft.Graph.PowerShell.Models.IMic…\n",
      "OwnedObjects                          Property              Microsoft.Graph.PowerShell.Models.IMic…\n",
      "PasswordPolicies                      Property              string PasswordPolicies {get;set;}\n",
      "PasswordProfile                       Property              Microsoft.Graph.PowerShell.Models.IMic…\n",
      "PastProjects                          Property              string[] PastProjects {get;set;}\n",
      "People                                Property              Microsoft.Graph.PowerShell.Models.IMic…\n",
      "PermissionGrants                      Property              Microsoft.Graph.PowerShell.Models.IMic…\n",
      "Photo                                 Property              Microsoft.Graph.PowerShell.Models.IMic…\n",
      "Photos                                Property              Microsoft.Graph.PowerShell.Models.IMic…\n",
      "Planner                               Property              Microsoft.Graph.PowerShell.Models.IMic…\n",
      "PostalCode                            Property              string PostalCode {get;set;}\n",
      "PreferredDataLocation                 Property              string PreferredDataLocation {get;set;}\n",
      "PreferredLanguage                     Property              string PreferredLanguage {get;set;}\n",
      "PreferredName                         Property              string PreferredName {get;set;}\n",
      "Presence                              Property              Microsoft.Graph.PowerShell.Models.IMic…\n",
      "Print                                 Property              Microsoft.Graph.PowerShell.Models.IMic…\n",
      "ProvisionedPlans                      Property              Microsoft.Graph.PowerShell.Models.IMic…\n",
      "ProxyAddresses                        Property              string[] ProxyAddresses {get;set;}\n",
      "RegisteredDevices                     Property              Microsoft.Graph.PowerShell.Models.IMic…\n",
      "Responsibilities                      Property              string[] Responsibilities {get;set;}\n",
      "Schools                               Property              string[] Schools {get;set;}\n",
      "ScopedRoleMemberOf                    Property              Microsoft.Graph.PowerShell.Models.IMic…\n",
      "SecurityIdentifier                    Property              string SecurityIdentifier {get;set;}\n",
      "ServiceProvisioningErrors             Property              Microsoft.Graph.PowerShell.Models.IMic…\n",
      "Settings                              Property              Microsoft.Graph.PowerShell.Models.IMic…\n",
      "ShowInAddressList                     Property              System.Nullable[bool] ShowInAddressLis…\n",
      "SignInActivity                        Property              Microsoft.Graph.PowerShell.Models.IMic…\n",
      "SignInSessionsValidFromDateTime       Property              System.Nullable[datetime] SignInSessio…\n",
      "Skills                                Property              string[] Skills {get;set;}\n",
      "State                                 Property              string State {get;set;}\n",
      "StreetAddress                         Property              string StreetAddress {get;set;}\n",
      "Surname                               Property              string Surname {get;set;}\n",
      "Teamwork                              Property              Microsoft.Graph.PowerShell.Models.IMic…\n",
      "Todo                                  Property              Microsoft.Graph.PowerShell.Models.IMic…\n",
      "TransitiveMemberOf                    Property              Microsoft.Graph.PowerShell.Models.IMic…\n",
      "UsageLocation                         Property              string UsageLocation {get;set;}\n",
      "UserPrincipalName                     Property              string UserPrincipalName {get;set;}\n",
      "UserType                              Property              string UserType {get;set;}\n",
      "\n"
     ]
    }
   ],
   "source": [
    "$result[0] | Get-Member"
   ]
  },
  {
   "cell_type": "markdown",
   "metadata": {},
   "source": [
    "User Lee Gu has signin records but accessing it shows null"
   ]
  },
  {
   "cell_type": "code",
   "execution_count": 10,
   "metadata": {
    "dotnet_interactive": {
     "language": "pwsh"
    },
    "polyglot_notebook": {
     "kernelName": "pwsh"
    }
   },
   "outputs": [
    {
     "name": "stdout",
     "output_type": "stream",
     "text": [
      "Lee Gu\n",
      "\n",
      "\u001b[32;1mLastNonInteractiveSignInDateTime\u001b[0m\u001b[32;1m LastNonInteractiveSignInRequestId\u001b[0m\u001b[32;1m LastSignInDateTime\u001b[0m\u001b[32;1m LastSignInReq\u001b[0m\n",
      "\u001b[32;1m                                \u001b[0m\u001b[32;1m                                  \u001b[0m\u001b[32;1m                   \u001b[0m\u001b[32;1m uestId\u001b[0m\n",
      "\u001b[32;1m--------------------------------\u001b[0m \u001b[32;1m---------------------------------\u001b[0m \u001b[32;1m------------------\u001b[0m \u001b[32;1m-------------\u001b[0m\n",
      "                                                                                      \n",
      "\n"
     ]
    }
   ],
   "source": [
    "$result[8].DisplayName; $result[8].SignInActivity"
   ]
  },
  {
   "cell_type": "markdown",
   "metadata": {},
   "source": [
    "Method 2 (This is the correct way, use -Property parameter)"
   ]
  },
  {
   "cell_type": "code",
   "execution_count": 11,
   "metadata": {
    "dotnet_interactive": {
     "language": "pwsh"
    },
    "polyglot_notebook": {
     "kernelName": "pwsh"
    }
   },
   "outputs": [],
   "source": [
    "$result = get-mguser | Select-Object -Property Id | ForEach-Object -Process {get-mguser -userid $_.Id -Property displayname, signInActivity}"
   ]
  },
  {
   "cell_type": "code",
   "execution_count": 12,
   "metadata": {
    "dotnet_interactive": {
     "language": "pwsh"
    },
    "polyglot_notebook": {
     "kernelName": "pwsh"
    }
   },
   "outputs": [
    {
     "name": "stdout",
     "output_type": "stream",
     "text": [
      "\n",
      "\u001b[32;1mDisplayName      \u001b[0m\u001b[32;1m LastSignInDateTime   \u001b[0m\u001b[32;1m LastNonInteractiveSignInDateTime\u001b[0m\n",
      "\u001b[32;1m-----------      \u001b[0m \u001b[32;1m------------------   \u001b[0m \u001b[32;1m--------------------------------\u001b[0m\n",
      "Adele Vance       12/19/2023 9:49:16 PM \n",
      "Alex Wilber       12/19/2023 9:49:19 PM \n",
      "Diego Siciliani   12/19/2023 9:49:22 PM \n",
      "Grady Archie      12/19/2023 9:49:24 PM \n",
      "Henrietta Mueller 12/19/2023 9:49:26 PM \n",
      "Isaiah Langer     12/19/2023 9:49:29 PM \n",
      "Johanna Lorenz    12/19/2023 9:49:33 PM \n",
      "Joni Sherman      12/19/2023 9:49:36 PM \n",
      "Lee Gu            1/29/2024 2:17:42 AM  2/1/2024 2:46:38 PM\n",
      "Lidia Holloway    12/19/2023 9:49:41 PM \n",
      "Lynne Robbins     12/19/2023 9:49:44 PM \n",
      "Megan Bowen       12/19/2023 9:49:46 PM \n",
      "Miriam Graham     12/19/2023 9:49:08 PM \n",
      "Nestor Wilke      12/19/2023 9:49:12 PM \n",
      "Patti Fernandez   12/19/2023 9:48:51 PM \n",
      "P A               2/1/2024 7:55:06 AM   2/1/2024 7:55:10 AM\n",
      "Pradeep Gupta     12/19/2023 9:49:49 PM \n",
      "\n"
     ]
    }
   ],
   "source": [
    "$result | Select-Object -Property DisplayName, @{ name = 'LastSignInDateTime'; expression = {$_.SignInActivity.LastSignInDateTime} }, \n",
    "                                                @{name = 'LastNonInteractiveSignInDateTime'; Expression = {$_.SignInActivity.LastNonInteractiveSignInDateTime}}"
   ]
  },
  {
   "cell_type": "code",
   "execution_count": 13,
   "metadata": {
    "dotnet_interactive": {
     "language": "pwsh"
    },
    "polyglot_notebook": {
     "kernelName": "pwsh"
    }
   },
   "outputs": [
    {
     "name": "stdout",
     "output_type": "stream",
     "text": [
      "\n",
      "\u001b[32;1mClientId               : \u001b[0m14d82eec-204b-4c2f-b7e8-296a70dab67e\n",
      "\u001b[32;1mTenantId               : \u001b[0m387d3aa5-b60a-4c48-9073-210676be29fc\n",
      "\u001b[32;1mScopes                 : \u001b[0m{AuditLog.Read.All, Group.ReadWrite.All, openid, profile…}\n",
      "\u001b[32;1mAuthType               : \u001b[0mDelegated\n",
      "\u001b[32;1mTokenCredentialType    : \u001b[0mDeviceCode\n",
      "\u001b[32;1mCertificateThumbprint  : \u001b[0m\n",
      "\u001b[32;1mCertificateSubjectName : \u001b[0m\n",
      "\u001b[32;1mAccount                : \u001b[0mplj611@61b3yr.onmicrosoft.com\n",
      "\u001b[32;1mAppName                : \u001b[0mMicrosoft Graph Command Line Tools\n",
      "\u001b[32;1mContextScope           : \u001b[0mProcess\n",
      "\u001b[32;1mCertificate            : \u001b[0m\n",
      "\u001b[32;1mPSHostVersion          : \u001b[0m1.0.0\n",
      "\u001b[32;1mManagedIdentityId      : \u001b[0m\n",
      "\u001b[32;1mClientSecret           : \u001b[0m\n",
      "\u001b[32;1mEnvironment            : \u001b[0mGlobal\n",
      "\n"
     ]
    }
   ],
   "source": [
    "Disconnect-Graph"
   ]
  },
  {
   "cell_type": "code",
   "execution_count": null,
   "metadata": {
    "dotnet_interactive": {
     "language": "pwsh"
    },
    "polyglot_notebook": {
     "kernelName": "pwsh"
    }
   },
   "outputs": [],
   "source": [
    " "
   ]
  }
 ],
 "metadata": {
  "kernelspec": {
   "display_name": ".NET (PowerShell)",
   "language": "PowerShell",
   "name": ".net-pwsh"
  },
  "language_info": {
   "name": "polyglot-notebook"
  },
  "polyglot_notebook": {
   "kernelInfo": {
    "defaultKernelName": "pwsh",
    "items": [
     {
      "aliases": [],
      "languageName": "pwsh",
      "name": "pwsh"
     }
    ]
   }
  }
 },
 "nbformat": 4,
 "nbformat_minor": 2
}
